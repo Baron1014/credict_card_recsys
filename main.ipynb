{
 "cells": [
  {
   "cell_type": "markdown",
   "id": "b39a5ee9-09a2-4bda-bcca-f7dd5dca5a9a",
   "metadata": {},
   "source": [
    "# 資料讀取"
   ]
  },
  {
   "cell_type": "code",
   "execution_count": 2,
   "id": "68df0f90-f478-4cb6-a045-1f9e89dec99f",
   "metadata": {},
   "outputs": [
    {
     "data": {
      "text/plain": [
       "22130579"
      ]
     },
     "execution_count": 2,
     "metadata": {},
     "output_type": "execute_result"
    }
   ],
   "source": [
    "df = pd.read_csv(\"../data/tbrain_small.csv\")\n",
    "len(df)"
   ]
  },
  {
   "cell_type": "code",
   "execution_count": 21,
   "id": "5e7a3e9b-9d40-4398-a4a6-4197b75d7d6a",
   "metadata": {},
   "outputs": [
    {
     "data": {
      "text/plain": [
       "500000"
      ]
     },
     "execution_count": 21,
     "metadata": {},
     "output_type": "execute_result"
    }
   ],
   "source": [
    "final_df = pd.read_csv(\"../data/需預測的顧客名單及提交檔案範例.csv\")\n",
    "len(final_df[\"chid\"].unique())"
   ]
  },
  {
   "cell_type": "code",
   "execution_count": 3,
   "id": "6a737719-216f-4cba-be9c-7ee46c158c9c",
   "metadata": {},
   "outputs": [
    {
     "data": {
      "text/plain": [
       "Index(['dt', 'chid', 'shop_tag', 'txn_cnt', 'txn_amt', 'domestic_offline_cnt',\n",
       "       'domestic_online_cnt', 'overseas_offline_cnt', 'overseas_online_cnt',\n",
       "       'domestic_offline_amt_pct', 'domestic_online_amt_pct',\n",
       "       'overseas_offline_amt_pct', 'overseas_online_amt_pct', 'card_1_txn_cnt',\n",
       "       'card_2_txn_cnt', 'card_3_txn_cnt', 'card_4_txn_cnt', 'card_5_txn_cnt',\n",
       "       'card_6_txn_cnt', 'card_7_txn_cnt', 'card_8_txn_cnt', 'card_9_txn_cnt',\n",
       "       'card_10_txn_cnt', 'card_11_txn_cnt', 'card_12_txn_cnt',\n",
       "       'card_13_txn_cnt', 'card_14_txn_cnt', 'card_other_txn_cnt',\n",
       "       'card_1_txn_amt_pct', 'card_2_txn_amt_pct', 'card_3_txn_amt_pct',\n",
       "       'card_4_txn_amt_pct', 'card_5_txn_amt_pct', 'card_6_txn_amt_pct',\n",
       "       'card_7_txn_amt_pct', 'card_8_txn_amt_pct', 'card_9_txn_amt_pct',\n",
       "       'card_10_txn_amt_pct', 'card_11_txn_amt_pct', 'card_12_txn_amt_pct',\n",
       "       'card_13_txn_amt_pct', 'card_14_txn_amt_pct', 'card_other_txn_amt_pct',\n",
       "       'masts', 'educd', 'trdtp', 'naty', 'poscd', 'cuorg', 'slam',\n",
       "       'gender_code', 'age', 'primary_card'],\n",
       "      dtype='object')"
      ]
     },
     "execution_count": 3,
     "metadata": {},
     "output_type": "execute_result"
    }
   ],
   "source": [
    "df = df.drop(columns=['Unnamed: 0'])\n",
    "df.columns"
   ]
  },
  {
   "cell_type": "code",
   "execution_count": 4,
   "id": "60fdcff6-2510-496b-bce4-eb1a557d3905",
   "metadata": {},
   "outputs": [
    {
     "data": {
      "text/html": [
       "<div>\n",
       "<style scoped>\n",
       "    .dataframe tbody tr th:only-of-type {\n",
       "        vertical-align: middle;\n",
       "    }\n",
       "\n",
       "    .dataframe tbody tr th {\n",
       "        vertical-align: top;\n",
       "    }\n",
       "\n",
       "    .dataframe thead th {\n",
       "        text-align: right;\n",
       "    }\n",
       "</style>\n",
       "<table border=\"1\" class=\"dataframe\">\n",
       "  <thead>\n",
       "    <tr style=\"text-align: right;\">\n",
       "      <th></th>\n",
       "      <th>dt</th>\n",
       "      <th>chid</th>\n",
       "      <th>shop_tag</th>\n",
       "      <th>txn_cnt</th>\n",
       "      <th>txn_amt</th>\n",
       "      <th>domestic_offline_cnt</th>\n",
       "      <th>domestic_online_cnt</th>\n",
       "      <th>overseas_offline_cnt</th>\n",
       "      <th>overseas_online_cnt</th>\n",
       "      <th>domestic_offline_amt_pct</th>\n",
       "      <th>...</th>\n",
       "      <th>masts</th>\n",
       "      <th>educd</th>\n",
       "      <th>trdtp</th>\n",
       "      <th>naty</th>\n",
       "      <th>poscd</th>\n",
       "      <th>cuorg</th>\n",
       "      <th>slam</th>\n",
       "      <th>gender_code</th>\n",
       "      <th>age</th>\n",
       "      <th>primary_card</th>\n",
       "    </tr>\n",
       "  </thead>\n",
       "  <tbody>\n",
       "    <tr>\n",
       "      <th>0</th>\n",
       "      <td>1</td>\n",
       "      <td>10267183</td>\n",
       "      <td>2</td>\n",
       "      <td>1</td>\n",
       "      <td>21701.307598</td>\n",
       "      <td>1</td>\n",
       "      <td>0</td>\n",
       "      <td>0</td>\n",
       "      <td>0</td>\n",
       "      <td>1.0</td>\n",
       "      <td>...</td>\n",
       "      <td>2.0</td>\n",
       "      <td>6.0</td>\n",
       "      <td>15.0</td>\n",
       "      <td>1.0</td>\n",
       "      <td>99.0</td>\n",
       "      <td>30.0</td>\n",
       "      <td>NaN</td>\n",
       "      <td>0.0</td>\n",
       "      <td>6.0</td>\n",
       "      <td>0</td>\n",
       "    </tr>\n",
       "    <tr>\n",
       "      <th>1</th>\n",
       "      <td>1</td>\n",
       "      <td>10115966</td>\n",
       "      <td>2</td>\n",
       "      <td>1</td>\n",
       "      <td>6698.199203</td>\n",
       "      <td>1</td>\n",
       "      <td>0</td>\n",
       "      <td>0</td>\n",
       "      <td>0</td>\n",
       "      <td>1.0</td>\n",
       "      <td>...</td>\n",
       "      <td>1.0</td>\n",
       "      <td>4.0</td>\n",
       "      <td>9.0</td>\n",
       "      <td>1.0</td>\n",
       "      <td>1.0</td>\n",
       "      <td>30.0</td>\n",
       "      <td>133000.939458</td>\n",
       "      <td>0.0</td>\n",
       "      <td>5.0</td>\n",
       "      <td>1</td>\n",
       "    </tr>\n",
       "    <tr>\n",
       "      <th>2</th>\n",
       "      <td>1</td>\n",
       "      <td>10484590</td>\n",
       "      <td>2</td>\n",
       "      <td>2</td>\n",
       "      <td>6693.510475</td>\n",
       "      <td>2</td>\n",
       "      <td>0</td>\n",
       "      <td>0</td>\n",
       "      <td>0</td>\n",
       "      <td>1.0</td>\n",
       "      <td>...</td>\n",
       "      <td>2.0</td>\n",
       "      <td>2.0</td>\n",
       "      <td>15.0</td>\n",
       "      <td>1.0</td>\n",
       "      <td>99.0</td>\n",
       "      <td>30.0</td>\n",
       "      <td>82728.103080</td>\n",
       "      <td>0.0</td>\n",
       "      <td>3.0</td>\n",
       "      <td>1</td>\n",
       "    </tr>\n",
       "    <tr>\n",
       "      <th>3</th>\n",
       "      <td>1</td>\n",
       "      <td>10079974</td>\n",
       "      <td>2</td>\n",
       "      <td>1</td>\n",
       "      <td>3271.025090</td>\n",
       "      <td>1</td>\n",
       "      <td>0</td>\n",
       "      <td>0</td>\n",
       "      <td>0</td>\n",
       "      <td>1.0</td>\n",
       "      <td>...</td>\n",
       "      <td>2.0</td>\n",
       "      <td>2.0</td>\n",
       "      <td>2.0</td>\n",
       "      <td>1.0</td>\n",
       "      <td>2.0</td>\n",
       "      <td>30.0</td>\n",
       "      <td>117920.305695</td>\n",
       "      <td>0.0</td>\n",
       "      <td>4.0</td>\n",
       "      <td>1</td>\n",
       "    </tr>\n",
       "    <tr>\n",
       "      <th>4</th>\n",
       "      <td>1</td>\n",
       "      <td>10233949</td>\n",
       "      <td>2</td>\n",
       "      <td>1</td>\n",
       "      <td>2829.165439</td>\n",
       "      <td>1</td>\n",
       "      <td>0</td>\n",
       "      <td>0</td>\n",
       "      <td>0</td>\n",
       "      <td>1.0</td>\n",
       "      <td>...</td>\n",
       "      <td>1.0</td>\n",
       "      <td>5.0</td>\n",
       "      <td>15.0</td>\n",
       "      <td>1.0</td>\n",
       "      <td>99.0</td>\n",
       "      <td>30.0</td>\n",
       "      <td>181351.200025</td>\n",
       "      <td>1.0</td>\n",
       "      <td>6.0</td>\n",
       "      <td>1</td>\n",
       "    </tr>\n",
       "  </tbody>\n",
       "</table>\n",
       "<p>5 rows × 53 columns</p>\n",
       "</div>"
      ],
      "text/plain": [
       "   dt      chid  shop_tag  txn_cnt       txn_amt  domestic_offline_cnt  \\\n",
       "0   1  10267183         2        1  21701.307598                     1   \n",
       "1   1  10115966         2        1   6698.199203                     1   \n",
       "2   1  10484590         2        2   6693.510475                     2   \n",
       "3   1  10079974         2        1   3271.025090                     1   \n",
       "4   1  10233949         2        1   2829.165439                     1   \n",
       "\n",
       "   domestic_online_cnt  overseas_offline_cnt  overseas_online_cnt  \\\n",
       "0                    0                     0                    0   \n",
       "1                    0                     0                    0   \n",
       "2                    0                     0                    0   \n",
       "3                    0                     0                    0   \n",
       "4                    0                     0                    0   \n",
       "\n",
       "   domestic_offline_amt_pct  ...  masts  educd  trdtp  naty  poscd  cuorg  \\\n",
       "0                       1.0  ...    2.0    6.0   15.0   1.0   99.0   30.0   \n",
       "1                       1.0  ...    1.0    4.0    9.0   1.0    1.0   30.0   \n",
       "2                       1.0  ...    2.0    2.0   15.0   1.0   99.0   30.0   \n",
       "3                       1.0  ...    2.0    2.0    2.0   1.0    2.0   30.0   \n",
       "4                       1.0  ...    1.0    5.0   15.0   1.0   99.0   30.0   \n",
       "\n",
       "            slam  gender_code  age  primary_card  \n",
       "0            NaN          0.0  6.0             0  \n",
       "1  133000.939458          0.0  5.0             1  \n",
       "2   82728.103080          0.0  3.0             1  \n",
       "3  117920.305695          0.0  4.0             1  \n",
       "4  181351.200025          1.0  6.0             1  \n",
       "\n",
       "[5 rows x 53 columns]"
      ]
     },
     "execution_count": 4,
     "metadata": {},
     "output_type": "execute_result"
    }
   ],
   "source": [
    "df.head()"
   ]
  },
  {
   "cell_type": "code",
   "execution_count": 5,
   "id": "374669da-cefa-447c-a979-6907729a27f5",
   "metadata": {},
   "outputs": [],
   "source": [
    "# traing data & testing data\n",
    "df, test_df = train_test_split(df, test_size=0.2, random_state=66)"
   ]
  },
  {
   "cell_type": "markdown",
   "id": "7a8af8bd-3489-4613-866f-d381b3f855e1",
   "metadata": {},
   "source": [
    "## Data Preprocess"
   ]
  },
  {
   "cell_type": "markdown",
   "id": "110c9d9d-0e4a-4d99-9a15-14d57a028de9",
   "metadata": {},
   "source": [
    "- txn_cnt 有負數可以進行排除\n",
    "- 做ＮＡＮ處理\n",
    "- 將id 重新編號\n",
    "- 訓練樣本是否需要平衡？平衡後訓練人數會不會下降？\n",
    "- 有些人數沒有出現過在需預測的類別中，因此需思考要如何對這些人做預測"
   ]
  },
  {
   "cell_type": "markdown",
   "id": "cec7211f-bc3b-41c6-b2a4-c54d66415143",
   "metadata": {},
   "source": [
    "### 排除消費次數為負數的數值"
   ]
  },
  {
   "cell_type": "code",
   "execution_count": 88,
   "id": "9efc7d3a-69e3-44ed-a0c3-11095c1e0857",
   "metadata": {},
   "outputs": [],
   "source": [
    "df = df[df[\"txn_cnt\"]>0]"
   ]
  },
  {
   "cell_type": "markdown",
   "id": "9ff33274-c248-4e18-98a2-0f46829431f0",
   "metadata": {},
   "source": [
    "### 任一欄位為NAN則排除"
   ]
  },
  {
   "cell_type": "code",
   "execution_count": 91,
   "id": "397786d9-6635-43f0-81c2-00502e01a14c",
   "metadata": {},
   "outputs": [],
   "source": [
    "df.dropna(inplace=True)"
   ]
  },
  {
   "cell_type": "code",
   "execution_count": 92,
   "id": "fa9759f6-ffdd-4d45-ac29-892cb4c2c4c2",
   "metadata": {},
   "outputs": [
    {
     "data": {
      "text/plain": [
       "491439"
      ]
     },
     "execution_count": 92,
     "metadata": {},
     "output_type": "execute_result"
    }
   ],
   "source": [
    "len(df[\"chid\"].unique())"
   ]
  },
  {
   "cell_type": "markdown",
   "id": "3e9e1448-07ba-43bd-9fdf-86f3955cfcbf",
   "metadata": {},
   "source": [
    "### 將chid重新編號"
   ]
  },
  {
   "cell_type": "markdown",
   "id": "af762282-17b5-4e3d-89bf-e5be08059cef",
   "metadata": {},
   "source": [
    "取得最後輸出時需要的chid"
   ]
  },
  {
   "cell_type": "code",
   "execution_count": 96,
   "id": "abc8c0ca-140f-468a-9832-e7d1f7862c64",
   "metadata": {},
   "outputs": [],
   "source": [
    "num_to_id = { i:id for i, id in enumerate(final_df[\"chid\"].unique())}\n",
    "id_to_num = { id:i for i, id in enumerate(final_df[\"chid\"].unique())}"
   ]
  },
  {
   "cell_type": "code",
   "execution_count": 97,
   "id": "a5f2dde8-0943-41bc-828b-ff1402d0e6b8",
   "metadata": {},
   "outputs": [
    {
     "data": {
      "text/html": [
       "<div>\n",
       "<style scoped>\n",
       "    .dataframe tbody tr th:only-of-type {\n",
       "        vertical-align: middle;\n",
       "    }\n",
       "\n",
       "    .dataframe tbody tr th {\n",
       "        vertical-align: top;\n",
       "    }\n",
       "\n",
       "    .dataframe thead th {\n",
       "        text-align: right;\n",
       "    }\n",
       "</style>\n",
       "<table border=\"1\" class=\"dataframe\">\n",
       "  <thead>\n",
       "    <tr style=\"text-align: right;\">\n",
       "      <th></th>\n",
       "      <th>chid</th>\n",
       "      <th>shop_tag</th>\n",
       "      <th>txn_cnt</th>\n",
       "      <th>txn_amt</th>\n",
       "      <th>masts</th>\n",
       "      <th>educd</th>\n",
       "      <th>trdtp</th>\n",
       "      <th>naty</th>\n",
       "      <th>poscd</th>\n",
       "      <th>cuorg</th>\n",
       "      <th>gender_code</th>\n",
       "      <th>age</th>\n",
       "      <th>primary_card</th>\n",
       "      <th>txn_amt_log</th>\n",
       "      <th>adj_id</th>\n",
       "    </tr>\n",
       "  </thead>\n",
       "  <tbody>\n",
       "    <tr>\n",
       "      <th>17447537</th>\n",
       "      <td>10101577</td>\n",
       "      <td>37</td>\n",
       "      <td>2</td>\n",
       "      <td>3600.642994</td>\n",
       "      <td>1.0</td>\n",
       "      <td>4.0</td>\n",
       "      <td>10.0</td>\n",
       "      <td>1.0</td>\n",
       "      <td>99.0</td>\n",
       "      <td>30.0</td>\n",
       "      <td>1.0</td>\n",
       "      <td>5.0</td>\n",
       "      <td>1</td>\n",
       "      <td>8.188868</td>\n",
       "      <td>62666</td>\n",
       "    </tr>\n",
       "    <tr>\n",
       "      <th>6599788</th>\n",
       "      <td>10253940</td>\n",
       "      <td>15</td>\n",
       "      <td>1</td>\n",
       "      <td>5773.036485</td>\n",
       "      <td>1.0</td>\n",
       "      <td>3.0</td>\n",
       "      <td>2.0</td>\n",
       "      <td>1.0</td>\n",
       "      <td>1.0</td>\n",
       "      <td>30.0</td>\n",
       "      <td>1.0</td>\n",
       "      <td>4.0</td>\n",
       "      <td>1</td>\n",
       "      <td>8.660953</td>\n",
       "      <td>370269</td>\n",
       "    </tr>\n",
       "    <tr>\n",
       "      <th>6941918</th>\n",
       "      <td>10265500</td>\n",
       "      <td>15</td>\n",
       "      <td>1</td>\n",
       "      <td>10606.681271</td>\n",
       "      <td>1.0</td>\n",
       "      <td>5.0</td>\n",
       "      <td>2.0</td>\n",
       "      <td>1.0</td>\n",
       "      <td>99.0</td>\n",
       "      <td>30.0</td>\n",
       "      <td>0.0</td>\n",
       "      <td>4.0</td>\n",
       "      <td>1</td>\n",
       "      <td>9.269239</td>\n",
       "      <td>71089</td>\n",
       "    </tr>\n",
       "    <tr>\n",
       "      <th>8388154</th>\n",
       "      <td>10372923</td>\n",
       "      <td>15</td>\n",
       "      <td>2</td>\n",
       "      <td>14427.826990</td>\n",
       "      <td>1.0</td>\n",
       "      <td>3.0</td>\n",
       "      <td>11.0</td>\n",
       "      <td>1.0</td>\n",
       "      <td>2.0</td>\n",
       "      <td>30.0</td>\n",
       "      <td>0.0</td>\n",
       "      <td>3.0</td>\n",
       "      <td>1</td>\n",
       "      <td>9.576914</td>\n",
       "      <td>164432</td>\n",
       "    </tr>\n",
       "    <tr>\n",
       "      <th>12702868</th>\n",
       "      <td>10414655</td>\n",
       "      <td>26</td>\n",
       "      <td>3</td>\n",
       "      <td>23869.510734</td>\n",
       "      <td>1.0</td>\n",
       "      <td>2.0</td>\n",
       "      <td>11.0</td>\n",
       "      <td>1.0</td>\n",
       "      <td>1.0</td>\n",
       "      <td>30.0</td>\n",
       "      <td>1.0</td>\n",
       "      <td>7.0</td>\n",
       "      <td>1</td>\n",
       "      <td>10.080357</td>\n",
       "      <td>490131</td>\n",
       "    </tr>\n",
       "  </tbody>\n",
       "</table>\n",
       "</div>"
      ],
      "text/plain": [
       "              chid  shop_tag  txn_cnt       txn_amt  masts  educd  trdtp  \\\n",
       "17447537  10101577        37        2   3600.642994    1.0    4.0   10.0   \n",
       "6599788   10253940        15        1   5773.036485    1.0    3.0    2.0   \n",
       "6941918   10265500        15        1  10606.681271    1.0    5.0    2.0   \n",
       "8388154   10372923        15        2  14427.826990    1.0    3.0   11.0   \n",
       "12702868  10414655        26        3  23869.510734    1.0    2.0   11.0   \n",
       "\n",
       "          naty  poscd  cuorg  gender_code  age  primary_card  txn_amt_log  \\\n",
       "17447537   1.0   99.0   30.0          1.0  5.0             1     8.188868   \n",
       "6599788    1.0    1.0   30.0          1.0  4.0             1     8.660953   \n",
       "6941918    1.0   99.0   30.0          0.0  4.0             1     9.269239   \n",
       "8388154    1.0    2.0   30.0          0.0  3.0             1     9.576914   \n",
       "12702868   1.0    1.0   30.0          1.0  7.0             1    10.080357   \n",
       "\n",
       "          adj_id  \n",
       "17447537   62666  \n",
       "6599788   370269  \n",
       "6941918    71089  \n",
       "8388154   164432  \n",
       "12702868  490131  "
      ]
     },
     "execution_count": 97,
     "metadata": {},
     "output_type": "execute_result"
    }
   ],
   "source": [
    "df[\"adj_id\"] = df[\"chid\"].map(id_to_num)\n",
    "df.head()"
   ]
  },
  {
   "cell_type": "code",
   "execution_count": 104,
   "id": "df023e6b-79d9-4799-98c2-156f9cb5189a",
   "metadata": {},
   "outputs": [
    {
     "data": {
      "text/html": [
       "<div>\n",
       "<style scoped>\n",
       "    .dataframe tbody tr th:only-of-type {\n",
       "        vertical-align: middle;\n",
       "    }\n",
       "\n",
       "    .dataframe tbody tr th {\n",
       "        vertical-align: top;\n",
       "    }\n",
       "\n",
       "    .dataframe thead th {\n",
       "        text-align: right;\n",
       "    }\n",
       "</style>\n",
       "<table border=\"1\" class=\"dataframe\">\n",
       "  <thead>\n",
       "    <tr style=\"text-align: right;\">\n",
       "      <th></th>\n",
       "      <th>adj_id</th>\n",
       "    </tr>\n",
       "  </thead>\n",
       "  <tbody>\n",
       "    <tr>\n",
       "      <th>17447537</th>\n",
       "      <td>62666</td>\n",
       "    </tr>\n",
       "    <tr>\n",
       "      <th>6599788</th>\n",
       "      <td>370269</td>\n",
       "    </tr>\n",
       "    <tr>\n",
       "      <th>6941918</th>\n",
       "      <td>71089</td>\n",
       "    </tr>\n",
       "    <tr>\n",
       "      <th>8388154</th>\n",
       "      <td>164432</td>\n",
       "    </tr>\n",
       "    <tr>\n",
       "      <th>12702868</th>\n",
       "      <td>490131</td>\n",
       "    </tr>\n",
       "  </tbody>\n",
       "</table>\n",
       "</div>"
      ],
      "text/plain": [
       "          adj_id\n",
       "17447537   62666\n",
       "6599788   370269\n",
       "6941918    71089\n",
       "8388154   164432\n",
       "12702868  490131"
      ]
     },
     "execution_count": 104,
     "metadata": {},
     "output_type": "execute_result"
    }
   ],
   "source": [
    "df[[\"adj_id\"]].head()"
   ]
  }
 ],
 "metadata": {
  "kernelspec": {
   "display_name": "Python 3 (ipykernel)",
   "language": "python",
   "name": "python3"
  },
  "language_info": {
   "codemirror_mode": {
    "name": "ipython",
    "version": 3
   },
   "file_extension": ".py",
   "mimetype": "text/x-python",
   "name": "python",
   "nbconvert_exporter": "python",
   "pygments_lexer": "ipython3",
   "version": "3.9.7"
  }
 },
 "nbformat": 4,
 "nbformat_minor": 5
}
