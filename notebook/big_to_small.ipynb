{
 "cells": [
  {
   "cell_type": "code",
   "execution_count": 8,
   "id": "8ef31a2f-8599-4b01-b28a-12e503c36192",
   "metadata": {},
   "outputs": [],
   "source": [
    "import pandas as pd\n",
    "from tqdm import tqdm"
   ]
  },
  {
   "cell_type": "code",
   "execution_count": 3,
   "id": "c548e468-7f4c-442f-b02f-a4b04661cfdc",
   "metadata": {},
   "outputs": [],
   "source": [
    "df = pd.read_csv(\"../../data/tbrain_cc_training_48tags_hash_final.csv\")"
   ]
  },
  {
   "cell_type": "code",
   "execution_count": 3,
   "id": "f5403596-be02-4e94-a90b-31e4691dd683",
   "metadata": {},
   "outputs": [
    {
     "data": {
      "text/html": [
       "<div>\n",
       "<style scoped>\n",
       "    .dataframe tbody tr th:only-of-type {\n",
       "        vertical-align: middle;\n",
       "    }\n",
       "\n",
       "    .dataframe tbody tr th {\n",
       "        vertical-align: top;\n",
       "    }\n",
       "\n",
       "    .dataframe thead th {\n",
       "        text-align: right;\n",
       "    }\n",
       "</style>\n",
       "<table border=\"1\" class=\"dataframe\">\n",
       "  <thead>\n",
       "    <tr style=\"text-align: right;\">\n",
       "      <th></th>\n",
       "      <th>dt</th>\n",
       "      <th>chid</th>\n",
       "      <th>shop_tag</th>\n",
       "      <th>txn_cnt</th>\n",
       "      <th>txn_amt</th>\n",
       "      <th>domestic_offline_cnt</th>\n",
       "      <th>domestic_online_cnt</th>\n",
       "      <th>overseas_offline_cnt</th>\n",
       "      <th>overseas_online_cnt</th>\n",
       "      <th>domestic_offline_amt_pct</th>\n",
       "      <th>...</th>\n",
       "      <th>masts</th>\n",
       "      <th>educd</th>\n",
       "      <th>trdtp</th>\n",
       "      <th>naty</th>\n",
       "      <th>poscd</th>\n",
       "      <th>cuorg</th>\n",
       "      <th>slam</th>\n",
       "      <th>gender_code</th>\n",
       "      <th>age</th>\n",
       "      <th>primary_card</th>\n",
       "    </tr>\n",
       "  </thead>\n",
       "  <tbody>\n",
       "    <tr>\n",
       "      <th>0</th>\n",
       "      <td>1</td>\n",
       "      <td>10321418</td>\n",
       "      <td>45</td>\n",
       "      <td>3</td>\n",
       "      <td>3891.965283</td>\n",
       "      <td>3</td>\n",
       "      <td>0</td>\n",
       "      <td>0</td>\n",
       "      <td>0</td>\n",
       "      <td>1.00</td>\n",
       "      <td>...</td>\n",
       "      <td>1.0</td>\n",
       "      <td>4.0</td>\n",
       "      <td>5.0</td>\n",
       "      <td>1.0</td>\n",
       "      <td>99.0</td>\n",
       "      <td>30.0</td>\n",
       "      <td>95982.822967</td>\n",
       "      <td>1.0</td>\n",
       "      <td>4.0</td>\n",
       "      <td>1</td>\n",
       "    </tr>\n",
       "    <tr>\n",
       "      <th>1</th>\n",
       "      <td>1</td>\n",
       "      <td>10414574</td>\n",
       "      <td>15</td>\n",
       "      <td>2</td>\n",
       "      <td>10616.561549</td>\n",
       "      <td>2</td>\n",
       "      <td>0</td>\n",
       "      <td>0</td>\n",
       "      <td>0</td>\n",
       "      <td>1.00</td>\n",
       "      <td>...</td>\n",
       "      <td>2.0</td>\n",
       "      <td>2.0</td>\n",
       "      <td>15.0</td>\n",
       "      <td>1.0</td>\n",
       "      <td>2.0</td>\n",
       "      <td>30.0</td>\n",
       "      <td>130702.351368</td>\n",
       "      <td>1.0</td>\n",
       "      <td>3.0</td>\n",
       "      <td>1</td>\n",
       "    </tr>\n",
       "    <tr>\n",
       "      <th>2</th>\n",
       "      <td>1</td>\n",
       "      <td>10134567</td>\n",
       "      <td>48</td>\n",
       "      <td>2</td>\n",
       "      <td>23527.655416</td>\n",
       "      <td>0</td>\n",
       "      <td>2</td>\n",
       "      <td>0</td>\n",
       "      <td>0</td>\n",
       "      <td>0.00</td>\n",
       "      <td>...</td>\n",
       "      <td>1.0</td>\n",
       "      <td>3.0</td>\n",
       "      <td>11.0</td>\n",
       "      <td>1.0</td>\n",
       "      <td>3.0</td>\n",
       "      <td>30.0</td>\n",
       "      <td>112010.611717</td>\n",
       "      <td>0.0</td>\n",
       "      <td>4.0</td>\n",
       "      <td>1</td>\n",
       "    </tr>\n",
       "    <tr>\n",
       "      <th>3</th>\n",
       "      <td>1</td>\n",
       "      <td>10001003</td>\n",
       "      <td>48</td>\n",
       "      <td>9</td>\n",
       "      <td>17751.558260</td>\n",
       "      <td>7</td>\n",
       "      <td>2</td>\n",
       "      <td>0</td>\n",
       "      <td>0</td>\n",
       "      <td>0.75</td>\n",
       "      <td>...</td>\n",
       "      <td>2.0</td>\n",
       "      <td>3.0</td>\n",
       "      <td>11.0</td>\n",
       "      <td>1.0</td>\n",
       "      <td>2.0</td>\n",
       "      <td>30.0</td>\n",
       "      <td>59701.507360</td>\n",
       "      <td>0.0</td>\n",
       "      <td>3.0</td>\n",
       "      <td>1</td>\n",
       "    </tr>\n",
       "    <tr>\n",
       "      <th>4</th>\n",
       "      <td>1</td>\n",
       "      <td>10267183</td>\n",
       "      <td>2</td>\n",
       "      <td>1</td>\n",
       "      <td>21701.307598</td>\n",
       "      <td>1</td>\n",
       "      <td>0</td>\n",
       "      <td>0</td>\n",
       "      <td>0</td>\n",
       "      <td>1.00</td>\n",
       "      <td>...</td>\n",
       "      <td>2.0</td>\n",
       "      <td>6.0</td>\n",
       "      <td>15.0</td>\n",
       "      <td>1.0</td>\n",
       "      <td>99.0</td>\n",
       "      <td>30.0</td>\n",
       "      <td>NaN</td>\n",
       "      <td>0.0</td>\n",
       "      <td>6.0</td>\n",
       "      <td>0</td>\n",
       "    </tr>\n",
       "  </tbody>\n",
       "</table>\n",
       "<p>5 rows × 53 columns</p>\n",
       "</div>"
      ],
      "text/plain": [
       "   dt      chid shop_tag  txn_cnt       txn_amt  domestic_offline_cnt  \\\n",
       "0   1  10321418       45        3   3891.965283                     3   \n",
       "1   1  10414574       15        2  10616.561549                     2   \n",
       "2   1  10134567       48        2  23527.655416                     0   \n",
       "3   1  10001003       48        9  17751.558260                     7   \n",
       "4   1  10267183        2        1  21701.307598                     1   \n",
       "\n",
       "   domestic_online_cnt  overseas_offline_cnt  overseas_online_cnt  \\\n",
       "0                    0                     0                    0   \n",
       "1                    0                     0                    0   \n",
       "2                    2                     0                    0   \n",
       "3                    2                     0                    0   \n",
       "4                    0                     0                    0   \n",
       "\n",
       "   domestic_offline_amt_pct  ...  masts  educd  trdtp  naty  poscd  cuorg  \\\n",
       "0                      1.00  ...    1.0    4.0    5.0   1.0   99.0   30.0   \n",
       "1                      1.00  ...    2.0    2.0   15.0   1.0    2.0   30.0   \n",
       "2                      0.00  ...    1.0    3.0   11.0   1.0    3.0   30.0   \n",
       "3                      0.75  ...    2.0    3.0   11.0   1.0    2.0   30.0   \n",
       "4                      1.00  ...    2.0    6.0   15.0   1.0   99.0   30.0   \n",
       "\n",
       "            slam  gender_code  age  primary_card  \n",
       "0   95982.822967          1.0  4.0             1  \n",
       "1  130702.351368          1.0  3.0             1  \n",
       "2  112010.611717          0.0  4.0             1  \n",
       "3   59701.507360          0.0  3.0             1  \n",
       "4            NaN          0.0  6.0             0  \n",
       "\n",
       "[5 rows x 53 columns]"
      ]
     },
     "execution_count": 3,
     "metadata": {},
     "output_type": "execute_result"
    }
   ],
   "source": [
    "df.head()"
   ]
  },
  {
   "cell_type": "code",
   "execution_count": 6,
   "id": "e8c50243-f1d8-4468-bb24-6416fabd2375",
   "metadata": {},
   "outputs": [
    {
     "data": {
      "text/plain": [
       "32975653"
      ]
     },
     "execution_count": 6,
     "metadata": {},
     "output_type": "execute_result"
    }
   ],
   "source": [
    "len(df)"
   ]
  },
  {
   "cell_type": "code",
   "execution_count": 8,
   "id": "15f1e144-d193-4a64-8796-dd18e7e8ed86",
   "metadata": {},
   "outputs": [
    {
     "data": {
      "text/plain": [
       "1971956"
      ]
     },
     "execution_count": 8,
     "metadata": {},
     "output_type": "execute_result"
    }
   ],
   "source": [
    "len(df[df[\"shop_tag\"]==\"2\"])"
   ]
  },
  {
   "cell_type": "code",
   "execution_count": 10,
   "id": "b6603fdf-491f-48b3-ab28-6d99a98e4e7a",
   "metadata": {},
   "outputs": [
    {
     "data": {
      "text/plain": [
       "22130579"
      ]
     },
     "execution_count": 10,
     "metadata": {},
     "output_type": "execute_result"
    }
   ],
   "source": [
    "predict_tag = [2, 6, 10, 12, 13, 15, 18, 19, 21, 22, 25, 26, 36, 37, 39, 48]\n",
    "for i in predict_tag:\n",
    "    if i == 2:\n",
    "        small = df[df[\"shop_tag\"]==str(i)]\n",
    "    else:\n",
    "        small = pd.concat([small, df[df[\"shop_tag\"]==str(i)]], ignore_index=True)\n",
    "\n",
    "len(small)"
   ]
  },
  {
   "cell_type": "code",
   "execution_count": 11,
   "id": "87e4958c-5316-40a4-ae07-b729af5c2da4",
   "metadata": {},
   "outputs": [],
   "source": [
    "small.to_csv(\"../data/tbrain_small.csv\", index=False)"
   ]
  },
  {
   "cell_type": "markdown",
   "id": "53067a05-5cb2-4b2e-b4b5-d4981f18c0a8",
   "metadata": {},
   "source": [
    "## 採樣"
   ]
  },
  {
   "cell_type": "code",
   "execution_count": 4,
   "id": "2108fb0c-9631-4e56-bb62-f39bb824d691",
   "metadata": {},
   "outputs": [
    {
     "data": {
      "text/plain": [
       "37       4092401\n",
       "other    2988218\n",
       "15       2573145\n",
       "36       2550500\n",
       "45       2411310\n",
       "10       2234101\n",
       "2        1971956\n",
       "48       1806496\n",
       "12       1130825\n",
       "19       1022234\n",
       "25        795763\n",
       "6         634849\n",
       "18        629407\n",
       "16        628987\n",
       "13        625801\n",
       "31        607888\n",
       "22        547293\n",
       "39        535248\n",
       "21        503873\n",
       "26        476687\n",
       "46        424055\n",
       "9         349932\n",
       "17        345814\n",
       "11        280455\n",
       "33        261088\n",
       "5         231969\n",
       "47        225170\n",
       "32        202863\n",
       "35        185585\n",
       "34        183470\n",
       "41        166662\n",
       "7         160780\n",
       "20        130038\n",
       "8         129061\n",
       "23        124889\n",
       "40        118913\n",
       "43        114998\n",
       "38        113608\n",
       "3         109286\n",
       "42         91492\n",
       "14         73457\n",
       "30         62032\n",
       "44         55273\n",
       "24         31530\n",
       "1          20800\n",
       "4           5997\n",
       "27          4754\n",
       "28          4585\n",
       "29           115\n",
       "Name: shop_tag, dtype: int64"
      ]
     },
     "execution_count": 4,
     "metadata": {},
     "output_type": "execute_result"
    }
   ],
   "source": [
    "df['shop_tag'].value_counts()"
   ]
  },
  {
   "cell_type": "code",
   "execution_count": 9,
   "id": "83e4b79c-54b9-493d-a398-9ab9a8087297",
   "metadata": {},
   "outputs": [
    {
     "name": "stderr",
     "output_type": "stream",
     "text": [
      "49it [04:30,  5.52s/it]\n"
     ]
    },
    {
     "data": {
      "text/plain": [
       "12184616"
      ]
     },
     "execution_count": 9,
     "metadata": {},
     "output_type": "execute_result"
    }
   ],
   "source": [
    "# 取得所有類別名稱\n",
    "tags = df[\"shop_tag\"].unique()\n",
    "\n",
    "# 每個類別最多取40W筆資料\n",
    "for i, tag in tqdm(enumerate(tags), desc=\"sampling\"):\n",
    "    max_rows = 400000\n",
    "    f_df = df[df[\"shop_tag\"]==tag]\n",
    "    if len(f_df) > max_rows:\n",
    "        sample_df = f_df.sample(n=max_rows)\n",
    "    else:\n",
    "        sample_df = f_df\n",
    "    \n",
    "    # 進行拼接\n",
    "    if i==0:\n",
    "        merge_df = sample_df\n",
    "    else:\n",
    "        merge_df = pd.concat([merge_df, sample_df])\n",
    "        \n",
    "len(merge_df)"
   ]
  },
  {
   "cell_type": "code",
   "execution_count": 11,
   "id": "158ab85e-085f-4320-a307-a273afdf4947",
   "metadata": {},
   "outputs": [],
   "source": [
    "merge_df.to_csv(\"../../data/tbrain_sample.csv\", index=False)"
   ]
  },
  {
   "cell_type": "code",
   "execution_count": null,
   "id": "d67abbf6-b71d-46f2-a803-c7eee60cb1a6",
   "metadata": {},
   "outputs": [],
   "source": []
  }
 ],
 "metadata": {
  "kernelspec": {
   "display_name": "Python 3 (ipykernel)",
   "language": "python",
   "name": "python3"
  },
  "language_info": {
   "codemirror_mode": {
    "name": "ipython",
    "version": 3
   },
   "file_extension": ".py",
   "mimetype": "text/x-python",
   "name": "python",
   "nbconvert_exporter": "python",
   "pygments_lexer": "ipython3",
   "version": "3.9.7"
  }
 },
 "nbformat": 4,
 "nbformat_minor": 5
}
