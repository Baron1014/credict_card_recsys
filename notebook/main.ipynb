{
 "cells": [
  {
   "cell_type": "markdown",
   "id": "e6434bc4-bf2d-4cb8-bc11-c8e78e04c01d",
   "metadata": {},
   "source": [
    "# Import Library"
   ]
  },
  {
   "cell_type": "code",
   "execution_count": 2,
   "id": "f706bb5e-511d-4a4d-86e8-3c7524a7e57a",
   "metadata": {},
   "outputs": [],
   "source": [
    "import sys\n",
    "sys.path.append('/Users/baron/Research/ncku/Recommendation/credict_recsys')\n",
    "#sys.path.append('../')\n",
    "\n",
    "import pandas as pd\n",
    "from sklearn.model_selection import train_test_split\n",
    "import numpy as np\n",
    "from sklearn.preprocessing import LabelEncoder, MinMaxScaler\n",
    "from apps.inference import make_final\n",
    "from tqdm import tqdm"
   ]
  },
  {
   "cell_type": "code",
   "execution_count": null,
   "id": "1d9efd45-f4bf-4407-8a4d-4e2f353d6c61",
   "metadata": {},
   "outputs": [],
   "source": [
    "from deepctr.models import DeepFM\n",
    "from deepctr.feature_column import SparseFeat, DenseFeat,get_feature_names"
   ]
  },
  {
   "cell_type": "markdown",
   "id": "5d89ef04-7a68-420b-80cf-dcae43ea5b82",
   "metadata": {},
   "source": [
    "# 資料讀取"
   ]
  },
  {
   "cell_type": "code",
   "execution_count": 2,
   "id": "f36a9d96-040e-4fd3-bea6-7a817f7cfe91",
   "metadata": {},
   "outputs": [
    {
     "data": {
      "text/plain": [
       "22130579"
      ]
     },
     "execution_count": 2,
     "metadata": {},
     "output_type": "execute_result"
    }
   ],
   "source": [
    "df = pd.read_csv(\"../../data/tbrain_small.csv\")\n",
    "len(df)"
   ]
  },
  {
   "cell_type": "code",
   "execution_count": 3,
   "id": "1147eaa1-d52e-4e24-997d-2e9c46a28fd8",
   "metadata": {},
   "outputs": [
    {
     "data": {
      "text/plain": [
       "500000"
      ]
     },
     "execution_count": 3,
     "metadata": {},
     "output_type": "execute_result"
    }
   ],
   "source": [
    "final_df = pd.read_csv(\"../../data/需預測的顧客名單及提交檔案範例.csv\")\n",
    "len(final_df)"
   ]
  },
  {
   "cell_type": "code",
   "execution_count": 4,
   "id": "510a5207-690a-42f4-a71c-ae88695b0464",
   "metadata": {},
   "outputs": [],
   "source": [
    "df = df.drop(columns=['Unnamed: 0'])"
   ]
  },
  {
   "cell_type": "markdown",
   "id": "9924354b-dbe7-45e3-9362-cabc450b556e",
   "metadata": {
    "tags": []
   },
   "source": [
    "# Model 1\n",
    "利用使用者屬性資料"
   ]
  },
  {
   "cell_type": "code",
   "execution_count": 5,
   "id": "967b6e63-5920-45b2-81f5-c9b7c3e85f1a",
   "metadata": {},
   "outputs": [],
   "source": [
    "df = df[[\"dt\", \"chid\", \"shop_tag\", \"txn_cnt\", \"txn_amt\", \"masts\", \"educd\", \"trdtp\", \"naty\", \"poscd\", \"cuorg\", \"gender_code\", \"age\", \"primary_card\"]]"
   ]
  },
  {
   "cell_type": "markdown",
   "id": "453f54fe-75eb-479f-9632-64bd09344ad1",
   "metadata": {},
   "source": [
    "## Data Preprocess"
   ]
  },
  {
   "cell_type": "markdown",
   "id": "753d87c2-8949-4342-9e43-93260cf1ea61",
   "metadata": {},
   "source": [
    "- 做nan處理\n",
    "- txn_cnt 有負數可以進行排除\n",
    "- 將id 重新編號\n",
    "- 訓練樣本是否需要平衡？平衡後訓練人數會不會下降？\n",
    "- 有些人數沒有出現過在需預測的類別中，因此需思考要如何對這些人做預測\n"
   ]
  },
  {
   "cell_type": "markdown",
   "id": "7e4836b9-63d0-49c2-9b0a-dcc27f141cb5",
   "metadata": {},
   "source": [
    "任一欄位為NAN則排除"
   ]
  },
  {
   "cell_type": "code",
   "execution_count": 6,
   "id": "5cab8d0e-f07e-436f-8052-d53f6d728b57",
   "metadata": {},
   "outputs": [],
   "source": [
    "df.dropna(inplace=True)"
   ]
  },
  {
   "cell_type": "markdown",
   "id": "df6c7644-39df-4a5b-9463-7d088c2fff8b",
   "metadata": {},
   "source": [
    "排除消費次數為負數的數值"
   ]
  },
  {
   "cell_type": "code",
   "execution_count": 7,
   "id": "0cf6251d-add9-49b5-9271-e44d45c76239",
   "metadata": {},
   "outputs": [],
   "source": [
    "df = df[df[\"txn_cnt\"]>0]"
   ]
  },
  {
   "cell_type": "markdown",
   "id": "c3e42d82-32b2-424e-a63f-bd565051d279",
   "metadata": {},
   "source": [
    "將chid重新編號, 取得最後輸出時需要的chid"
   ]
  },
  {
   "cell_type": "code",
   "execution_count": 8,
   "id": "91810822-c94d-4b23-ba31-2d268c3941c8",
   "metadata": {},
   "outputs": [],
   "source": [
    "num_to_id = { i:id for i, id in enumerate(final_df[\"chid\"].unique())}\n",
    "id_to_num = { id:i for i, id in enumerate(final_df[\"chid\"].unique())}"
   ]
  },
  {
   "cell_type": "code",
   "execution_count": 9,
   "id": "872c0f83-c92c-42a0-97f9-4676010106d7",
   "metadata": {},
   "outputs": [],
   "source": [
    "df[\"adj_id\"] = df[\"chid\"].map(id_to_num)"
   ]
  },
  {
   "cell_type": "markdown",
   "id": "f1984942-5705-4a29-8966-ffd3dff327fd",
   "metadata": {},
   "source": [
    "將以下類別欄位直接轉為int\n",
    "- 婚姻\n",
    "- 教育程度\n",
    "- 行業別\n",
    "- 國籍\n",
    "- 職位別\n",
    "- 客戶來源\n",
    "- 正卡信用額度\n",
    "- 性別代碼\n",
    "- 年紀\n",
    "- 正附卡註記"
   ]
  },
  {
   "cell_type": "code",
   "execution_count": 10,
   "id": "7d64f376-5ad5-416a-9626-09184f427dd2",
   "metadata": {},
   "outputs": [],
   "source": [
    "df['masts'] = df['masts'].astype(int)\n",
    "df['educd'] = df['educd'].astype(int)\n",
    "df['trdtp'] = df['trdtp'].astype(int)\n",
    "df['naty'] = df['naty'].astype(int)\n",
    "df['poscd'] = df['poscd'].astype(int)\n",
    "df['cuorg'] = df['cuorg'].astype(int)\n",
    "df['gender_code'] = df['gender_code'].astype(int)\n",
    "df['age'] = df['age'].astype(int)\n",
    "df['primary_card'] = df['primary_card'].astype(int)"
   ]
  },
  {
   "cell_type": "markdown",
   "id": "0e0b9795-9506-4ace-9c0d-7f4d154b19e5",
   "metadata": {},
   "source": [
    "將消費金額轉為log型態"
   ]
  },
  {
   "cell_type": "code",
   "execution_count": 11,
   "id": "1553c54f-ecef-4948-bff5-71a514de11a7",
   "metadata": {},
   "outputs": [],
   "source": [
    "df[\"txn_amt_log\"] = df[\"txn_amt\"].apply(np.log)"
   ]
  },
  {
   "cell_type": "code",
   "execution_count": 12,
   "id": "19848079-b368-48dd-b11f-974d6c3e2c7d",
   "metadata": {},
   "outputs": [
    {
     "data": {
      "text/html": [
       "<div>\n",
       "<style scoped>\n",
       "    .dataframe tbody tr th:only-of-type {\n",
       "        vertical-align: middle;\n",
       "    }\n",
       "\n",
       "    .dataframe tbody tr th {\n",
       "        vertical-align: top;\n",
       "    }\n",
       "\n",
       "    .dataframe thead th {\n",
       "        text-align: right;\n",
       "    }\n",
       "</style>\n",
       "<table border=\"1\" class=\"dataframe\">\n",
       "  <thead>\n",
       "    <tr style=\"text-align: right;\">\n",
       "      <th></th>\n",
       "      <th>chid</th>\n",
       "      <th>shop_tag</th>\n",
       "      <th>txn_cnt</th>\n",
       "      <th>txn_amt</th>\n",
       "      <th>masts</th>\n",
       "      <th>educd</th>\n",
       "      <th>trdtp</th>\n",
       "      <th>naty</th>\n",
       "      <th>poscd</th>\n",
       "      <th>cuorg</th>\n",
       "      <th>gender_code</th>\n",
       "      <th>age</th>\n",
       "      <th>primary_card</th>\n",
       "      <th>adj_id</th>\n",
       "      <th>txn_amt_log</th>\n",
       "    </tr>\n",
       "  </thead>\n",
       "  <tbody>\n",
       "    <tr>\n",
       "      <th>0</th>\n",
       "      <td>10267183</td>\n",
       "      <td>2</td>\n",
       "      <td>1</td>\n",
       "      <td>21701.307598</td>\n",
       "      <td>2</td>\n",
       "      <td>6</td>\n",
       "      <td>15</td>\n",
       "      <td>1</td>\n",
       "      <td>99</td>\n",
       "      <td>30</td>\n",
       "      <td>0</td>\n",
       "      <td>6</td>\n",
       "      <td>0</td>\n",
       "      <td>354909</td>\n",
       "      <td>9.985128</td>\n",
       "    </tr>\n",
       "    <tr>\n",
       "      <th>1</th>\n",
       "      <td>10115966</td>\n",
       "      <td>2</td>\n",
       "      <td>1</td>\n",
       "      <td>6698.199203</td>\n",
       "      <td>1</td>\n",
       "      <td>4</td>\n",
       "      <td>9</td>\n",
       "      <td>1</td>\n",
       "      <td>1</td>\n",
       "      <td>30</td>\n",
       "      <td>0</td>\n",
       "      <td>5</td>\n",
       "      <td>1</td>\n",
       "      <td>354911</td>\n",
       "      <td>8.809594</td>\n",
       "    </tr>\n",
       "    <tr>\n",
       "      <th>2</th>\n",
       "      <td>10484590</td>\n",
       "      <td>2</td>\n",
       "      <td>2</td>\n",
       "      <td>6693.510475</td>\n",
       "      <td>2</td>\n",
       "      <td>2</td>\n",
       "      <td>15</td>\n",
       "      <td>1</td>\n",
       "      <td>99</td>\n",
       "      <td>30</td>\n",
       "      <td>0</td>\n",
       "      <td>3</td>\n",
       "      <td>1</td>\n",
       "      <td>354959</td>\n",
       "      <td>8.808894</td>\n",
       "    </tr>\n",
       "    <tr>\n",
       "      <th>3</th>\n",
       "      <td>10079974</td>\n",
       "      <td>2</td>\n",
       "      <td>1</td>\n",
       "      <td>3271.025090</td>\n",
       "      <td>2</td>\n",
       "      <td>2</td>\n",
       "      <td>2</td>\n",
       "      <td>1</td>\n",
       "      <td>2</td>\n",
       "      <td>30</td>\n",
       "      <td>0</td>\n",
       "      <td>4</td>\n",
       "      <td>1</td>\n",
       "      <td>354992</td>\n",
       "      <td>8.092859</td>\n",
       "    </tr>\n",
       "    <tr>\n",
       "      <th>4</th>\n",
       "      <td>10233949</td>\n",
       "      <td>2</td>\n",
       "      <td>1</td>\n",
       "      <td>2829.165439</td>\n",
       "      <td>1</td>\n",
       "      <td>5</td>\n",
       "      <td>15</td>\n",
       "      <td>1</td>\n",
       "      <td>99</td>\n",
       "      <td>30</td>\n",
       "      <td>1</td>\n",
       "      <td>6</td>\n",
       "      <td>1</td>\n",
       "      <td>354949</td>\n",
       "      <td>7.947737</td>\n",
       "    </tr>\n",
       "    <tr>\n",
       "      <th>5</th>\n",
       "      <td>10488184</td>\n",
       "      <td>2</td>\n",
       "      <td>2</td>\n",
       "      <td>8407.700040</td>\n",
       "      <td>2</td>\n",
       "      <td>3</td>\n",
       "      <td>12</td>\n",
       "      <td>1</td>\n",
       "      <td>6</td>\n",
       "      <td>30</td>\n",
       "      <td>1</td>\n",
       "      <td>4</td>\n",
       "      <td>1</td>\n",
       "      <td>355015</td>\n",
       "      <td>9.036903</td>\n",
       "    </tr>\n",
       "    <tr>\n",
       "      <th>6</th>\n",
       "      <td>10038204</td>\n",
       "      <td>2</td>\n",
       "      <td>2</td>\n",
       "      <td>7604.385348</td>\n",
       "      <td>2</td>\n",
       "      <td>3</td>\n",
       "      <td>11</td>\n",
       "      <td>1</td>\n",
       "      <td>2</td>\n",
       "      <td>30</td>\n",
       "      <td>1</td>\n",
       "      <td>3</td>\n",
       "      <td>1</td>\n",
       "      <td>352405</td>\n",
       "      <td>8.936480</td>\n",
       "    </tr>\n",
       "    <tr>\n",
       "      <th>7</th>\n",
       "      <td>10050073</td>\n",
       "      <td>2</td>\n",
       "      <td>2</td>\n",
       "      <td>31743.259948</td>\n",
       "      <td>1</td>\n",
       "      <td>6</td>\n",
       "      <td>15</td>\n",
       "      <td>1</td>\n",
       "      <td>99</td>\n",
       "      <td>30</td>\n",
       "      <td>0</td>\n",
       "      <td>6</td>\n",
       "      <td>1</td>\n",
       "      <td>354960</td>\n",
       "      <td>10.365436</td>\n",
       "    </tr>\n",
       "    <tr>\n",
       "      <th>8</th>\n",
       "      <td>10436047</td>\n",
       "      <td>2</td>\n",
       "      <td>1</td>\n",
       "      <td>4333.009825</td>\n",
       "      <td>2</td>\n",
       "      <td>3</td>\n",
       "      <td>11</td>\n",
       "      <td>1</td>\n",
       "      <td>2</td>\n",
       "      <td>30</td>\n",
       "      <td>0</td>\n",
       "      <td>2</td>\n",
       "      <td>1</td>\n",
       "      <td>355022</td>\n",
       "      <td>8.374018</td>\n",
       "    </tr>\n",
       "    <tr>\n",
       "      <th>9</th>\n",
       "      <td>10193951</td>\n",
       "      <td>2</td>\n",
       "      <td>5</td>\n",
       "      <td>24049.208333</td>\n",
       "      <td>2</td>\n",
       "      <td>2</td>\n",
       "      <td>17</td>\n",
       "      <td>1</td>\n",
       "      <td>2</td>\n",
       "      <td>30</td>\n",
       "      <td>0</td>\n",
       "      <td>3</td>\n",
       "      <td>1</td>\n",
       "      <td>354941</td>\n",
       "      <td>10.087857</td>\n",
       "    </tr>\n",
       "  </tbody>\n",
       "</table>\n",
       "</div>"
      ],
      "text/plain": [
       "       chid  shop_tag  txn_cnt       txn_amt  masts  educd  trdtp  naty  \\\n",
       "0  10267183         2        1  21701.307598      2      6     15     1   \n",
       "1  10115966         2        1   6698.199203      1      4      9     1   \n",
       "2  10484590         2        2   6693.510475      2      2     15     1   \n",
       "3  10079974         2        1   3271.025090      2      2      2     1   \n",
       "4  10233949         2        1   2829.165439      1      5     15     1   \n",
       "5  10488184         2        2   8407.700040      2      3     12     1   \n",
       "6  10038204         2        2   7604.385348      2      3     11     1   \n",
       "7  10050073         2        2  31743.259948      1      6     15     1   \n",
       "8  10436047         2        1   4333.009825      2      3     11     1   \n",
       "9  10193951         2        5  24049.208333      2      2     17     1   \n",
       "\n",
       "   poscd  cuorg  gender_code  age  primary_card  adj_id  txn_amt_log  \n",
       "0     99     30            0    6             0  354909     9.985128  \n",
       "1      1     30            0    5             1  354911     8.809594  \n",
       "2     99     30            0    3             1  354959     8.808894  \n",
       "3      2     30            0    4             1  354992     8.092859  \n",
       "4     99     30            1    6             1  354949     7.947737  \n",
       "5      6     30            1    4             1  355015     9.036903  \n",
       "6      2     30            1    3             1  352405     8.936480  \n",
       "7     99     30            0    6             1  354960    10.365436  \n",
       "8      2     30            0    2             1  355022     8.374018  \n",
       "9      2     30            0    3             1  354941    10.087857  "
      ]
     },
     "execution_count": 12,
     "metadata": {},
     "output_type": "execute_result"
    }
   ],
   "source": [
    "df.head(10)"
   ]
  },
  {
   "cell_type": "code",
   "execution_count": 19,
   "id": "c677f03d-c98f-4fdc-8729-fc8262b1df89",
   "metadata": {},
   "outputs": [
    {
     "data": {
      "text/plain": [
       "chid            1.012824e+07\n",
       "shop_tag        2.200000e+01\n",
       "txn_cnt         1.000000e+00\n",
       "txn_amt         1.531701e+03\n",
       "masts           1.000000e+00\n",
       "educd           4.000000e+00\n",
       "trdtp           8.000000e+00\n",
       "naty            1.000000e+00\n",
       "poscd           1.000000e+00\n",
       "cuorg           3.000000e+01\n",
       "gender_code     0.000000e+00\n",
       "age             4.000000e+00\n",
       "primary_card    1.000000e+00\n",
       "adj_id          0.000000e+00\n",
       "txn_amt_log     7.334134e+00\n",
       "Name: 11483832, dtype: float64"
      ]
     },
     "execution_count": 19,
     "metadata": {},
     "output_type": "execute_result"
    }
   ],
   "source": [
    "i = final_df[\"chid\"].unique()[0]\n",
    "df[df[\"chid\"]==i].iloc[0]\n"
   ]
  },
  {
   "cell_type": "code",
   "execution_count": 20,
   "id": "e17b7084-4f3a-42b7-8472-6435c639e858",
   "metadata": {},
   "outputs": [
    {
     "name": "stderr",
     "output_type": "stream",
     "text": [
      "get attributes:   3%|██▏                                                                              | 13273/500000 [03:09<1:55:49, 70.04it/s]\n"
     ]
    },
    {
     "ename": "KeyboardInterrupt",
     "evalue": "",
     "output_type": "error",
     "traceback": [
      "\u001b[0;31m---------------------------------------------------------------------------\u001b[0m",
      "\u001b[0;31mKeyboardInterrupt\u001b[0m                         Traceback (most recent call last)",
      "\u001b[0;32m/var/folders/kt/x30tbjwn7g96gghmgl32dv3h0000gn/T/ipykernel_22632/3301653167.py\u001b[0m in \u001b[0;36m<module>\u001b[0;34m\u001b[0m\n\u001b[1;32m      6\u001b[0m     \u001b[0;31m# 若是id有存在於訓練資料中，則取得對應數值，否則為0\u001b[0m\u001b[0;34m\u001b[0m\u001b[0;34m\u001b[0m\u001b[0m\n\u001b[1;32m      7\u001b[0m     \u001b[0;32mif\u001b[0m \u001b[0mi\u001b[0m \u001b[0;32min\u001b[0m \u001b[0mtrain_id\u001b[0m\u001b[0;34m:\u001b[0m\u001b[0;34m\u001b[0m\u001b[0;34m\u001b[0m\u001b[0m\n\u001b[0;32m----> 8\u001b[0;31m         \u001b[0mfilter_col\u001b[0m \u001b[0;34m=\u001b[0m \u001b[0mdf\u001b[0m\u001b[0;34m[\u001b[0m\u001b[0mdf\u001b[0m\u001b[0;34m[\u001b[0m\u001b[0;34m\"chid\"\u001b[0m\u001b[0;34m]\u001b[0m\u001b[0;34m==\u001b[0m\u001b[0mi\u001b[0m\u001b[0;34m]\u001b[0m\u001b[0;34m.\u001b[0m\u001b[0miloc\u001b[0m\u001b[0;34m[\u001b[0m\u001b[0;36m0\u001b[0m\u001b[0;34m]\u001b[0m\u001b[0;34m\u001b[0m\u001b[0;34m\u001b[0m\u001b[0m\n\u001b[0m\u001b[1;32m      9\u001b[0m         \u001b[0muser_attributes\u001b[0m\u001b[0;34m[\u001b[0m\u001b[0mi\u001b[0m\u001b[0;34m]\u001b[0m \u001b[0;34m=\u001b[0m \u001b[0;34m{\u001b[0m\u001b[0mcol\u001b[0m\u001b[0;34m:\u001b[0m \u001b[0mfilter_col\u001b[0m\u001b[0;34m[\u001b[0m\u001b[0mcol\u001b[0m\u001b[0;34m]\u001b[0m\u001b[0;34m.\u001b[0m\u001b[0mastype\u001b[0m\u001b[0;34m(\u001b[0m\u001b[0;34m\"int\"\u001b[0m\u001b[0;34m)\u001b[0m \u001b[0;32mfor\u001b[0m \u001b[0mcol\u001b[0m \u001b[0;32min\u001b[0m \u001b[0mgenerate_col\u001b[0m\u001b[0;34m}\u001b[0m\u001b[0;34m\u001b[0m\u001b[0;34m\u001b[0m\u001b[0m\n\u001b[1;32m     10\u001b[0m     \u001b[0;32melse\u001b[0m\u001b[0;34m:\u001b[0m\u001b[0;34m\u001b[0m\u001b[0;34m\u001b[0m\u001b[0m\n",
      "\u001b[0;32m/opt/homebrew/lib/python3.9/site-packages/pandas/core/frame.py\u001b[0m in \u001b[0;36m__getitem__\u001b[0;34m(self, key)\u001b[0m\n\u001b[1;32m   3447\u001b[0m         \u001b[0;31m# Do we have a (boolean) 1d indexer?\u001b[0m\u001b[0;34m\u001b[0m\u001b[0;34m\u001b[0m\u001b[0m\n\u001b[1;32m   3448\u001b[0m         \u001b[0;32mif\u001b[0m \u001b[0mcom\u001b[0m\u001b[0;34m.\u001b[0m\u001b[0mis_bool_indexer\u001b[0m\u001b[0;34m(\u001b[0m\u001b[0mkey\u001b[0m\u001b[0;34m)\u001b[0m\u001b[0;34m:\u001b[0m\u001b[0;34m\u001b[0m\u001b[0;34m\u001b[0m\u001b[0m\n\u001b[0;32m-> 3449\u001b[0;31m             \u001b[0;32mreturn\u001b[0m \u001b[0mself\u001b[0m\u001b[0;34m.\u001b[0m\u001b[0m_getitem_bool_array\u001b[0m\u001b[0;34m(\u001b[0m\u001b[0mkey\u001b[0m\u001b[0;34m)\u001b[0m\u001b[0;34m\u001b[0m\u001b[0;34m\u001b[0m\u001b[0m\n\u001b[0m\u001b[1;32m   3450\u001b[0m \u001b[0;34m\u001b[0m\u001b[0m\n\u001b[1;32m   3451\u001b[0m         \u001b[0;31m# We are left with two options: a single key, and a collection of keys,\u001b[0m\u001b[0;34m\u001b[0m\u001b[0;34m\u001b[0m\u001b[0m\n",
      "\u001b[0;32m/opt/homebrew/lib/python3.9/site-packages/pandas/core/frame.py\u001b[0m in \u001b[0;36m_getitem_bool_array\u001b[0;34m(self, key)\u001b[0m\n\u001b[1;32m   3501\u001b[0m         \u001b[0;31m# be reindexed to match DataFrame rows\u001b[0m\u001b[0;34m\u001b[0m\u001b[0;34m\u001b[0m\u001b[0m\n\u001b[1;32m   3502\u001b[0m         \u001b[0mkey\u001b[0m \u001b[0;34m=\u001b[0m \u001b[0mcheck_bool_indexer\u001b[0m\u001b[0;34m(\u001b[0m\u001b[0mself\u001b[0m\u001b[0;34m.\u001b[0m\u001b[0mindex\u001b[0m\u001b[0;34m,\u001b[0m \u001b[0mkey\u001b[0m\u001b[0;34m)\u001b[0m\u001b[0;34m\u001b[0m\u001b[0;34m\u001b[0m\u001b[0m\n\u001b[0;32m-> 3503\u001b[0;31m         \u001b[0mindexer\u001b[0m \u001b[0;34m=\u001b[0m \u001b[0mkey\u001b[0m\u001b[0;34m.\u001b[0m\u001b[0mnonzero\u001b[0m\u001b[0;34m(\u001b[0m\u001b[0;34m)\u001b[0m\u001b[0;34m[\u001b[0m\u001b[0;36m0\u001b[0m\u001b[0;34m]\u001b[0m\u001b[0;34m\u001b[0m\u001b[0;34m\u001b[0m\u001b[0m\n\u001b[0m\u001b[1;32m   3504\u001b[0m         \u001b[0;32mreturn\u001b[0m \u001b[0mself\u001b[0m\u001b[0;34m.\u001b[0m\u001b[0m_take_with_is_copy\u001b[0m\u001b[0;34m(\u001b[0m\u001b[0mindexer\u001b[0m\u001b[0;34m,\u001b[0m \u001b[0maxis\u001b[0m\u001b[0;34m=\u001b[0m\u001b[0;36m0\u001b[0m\u001b[0;34m)\u001b[0m\u001b[0;34m\u001b[0m\u001b[0;34m\u001b[0m\u001b[0m\n\u001b[1;32m   3505\u001b[0m \u001b[0;34m\u001b[0m\u001b[0m\n",
      "\u001b[0;31mKeyboardInterrupt\u001b[0m: "
     ]
    }
   ],
   "source": [
    "# 建立使用者屬性\n",
    "user_attributes = dict()\n",
    "train_id = df[\"chid\"].unique()\n",
    "generate_col = [\"masts\", \"txn_cnt\", \"educd\", \"trdtp\", \"naty\", \"poscd\", \"cuorg\", \"gender_code\", \"age\", \"primary_card\"]\n",
    "for i in tqdm(final_df[\"chid\"].unique(), desc=\"get attributes\"):\n",
    "    # 若是id有存在於訓練資料中，則取得對應數值，否則為0\n",
    "    if i in train_id:\n",
    "        filter_col = df[df[\"chid\"]==i].iloc[0]\n",
    "        user_attributes[i] = {col: filter_col[col].astype(\"int\") for col in generate_col}\n",
    "    else:\n",
    "        user_attributes[i] = {col: 0 for col in generate_col}"
   ]
  },
  {
   "cell_type": "code",
   "execution_count": 16,
   "id": "c104eedf-bd38-45bb-9714-75206169c402",
   "metadata": {},
   "outputs": [],
   "source": [
    "df = df.drop(columns=[\"chid\", \"txn_amt\"])"
   ]
  },
  {
   "cell_type": "markdown",
   "id": "a9648686-ba40-465b-a743-c0e6e994420f",
   "metadata": {},
   "source": [
    "## Model Training"
   ]
  },
  {
   "cell_type": "code",
   "execution_count": null,
   "id": "1a3245f8-e68e-4e22-b2bb-f62c8f97b748",
   "metadata": {},
   "outputs": [],
   "source": [
    "def run_model(train_data, feature_names,linear_feature_columns, dnn_feature_columns, target, save_path):\n",
    "    # traing data & testing data\n",
    "    train, test = train_test_split(train_data, test_size=0.2, random_state=66)\n",
    "    \n",
    "    #training \n",
    "    train_model_input = {name:train[name].values for name in feature_names}\n",
    "    test_model_input = {name:test[name].values for name in feature_names}\n",
    "\n",
    "    model = DeepFM(linear_feature_columns,dnn_feature_columns,task='regression')\n",
    "    model.compile(\"adam\", \"mse\",\n",
    "                  metrics=['mse'], )\n",
    "    history = model.fit(train_model_input, train[target].values,\n",
    "                        batch_size=256, epochs=100, verbose=2, validation_split=0.2)\n",
    "    \n",
    "    # save model \n",
    "    model.save_weights(save_path)\n",
    "    \n",
    "    return model\n",
    "\n",
    "def get_feature(data, sparse_features, dense_features):\n",
    "    #normalize dense\n",
    "    mms = MinMaxScaler(feature_range=(0,1))\n",
    "    data[dense_features] = mms.fit_transform(data[dense_features])\n",
    "    \n",
    "    #generate faeture columns \n",
    "    fixlen_feature_columns = [SparseFeat(feat, vocabulary_size=data[feat].max() + 1,embedding_dim=4)\n",
    "                       for i,feat in enumerate(sparse_features)] + [DenseFeat(feat, 1,)\n",
    "                      for feat in dense_features]\n",
    "    dnn_feature_columns = fixlen_feature_columns\n",
    "    linear_feature_columns = fixlen_feature_columns\n",
    "    feature_names = get_feature_names(linear_feature_columns + dnn_feature_columns)\n",
    "    \n",
    "    return data, feature_names, linear_feature_columns, dnn_feature_columns"
   ]
  },
  {
   "cell_type": "code",
   "execution_count": null,
   "id": "a345a55d-525c-4339-aa2f-cfa69e4d7e06",
   "metadata": {},
   "outputs": [],
   "source": [
    "sparse_features = [\"adj_id\", \"shop_tag\", \"masts\", \"txn_cnt\", \"educd\", \"trdtp\", \"naty\", \"poscd\", \"cuorg\", \"gender_code\", \"age\", \"primary_card\"]\n",
    "dense_features = [\"dt\"]\n",
    "target = [\"txn_amt_log\"]\n",
    "save_path = \"../model/DeepFM_1.h5\"\n",
    "#generate faeture columns\n",
    "df, feature_names, linear_feature_columns, dnn_feature_columns = get_feature(df, sparse_features, dense_features)\n",
    "\n",
    "model = run_model(df, sparse_features, dense_features, target, save_path)"
   ]
  },
  {
   "cell_type": "markdown",
   "id": "6bbfc8aa-59c4-4b30-8b57-a656f34e2f82",
   "metadata": {},
   "source": [
    "## output csv"
   ]
  },
  {
   "cell_type": "code",
   "execution_count": null,
   "id": "eb7d47aa-2e64-45f0-a889-a4508a941019",
   "metadata": {},
   "outputs": [],
   "source": [
    "def make_final(model, tags, feature_names, columns, user_attributes):\n",
    "    final_df = pd.read_csv(\"../../data/需預測的顧客名單及提交檔案範例.csv\")\n",
    "    output_path = \"../fm_1_100.csv\"\n",
    "    id_to_num = {id:i for i, id in enumerate(final_df[\"chid\"].unique())}\n",
    "    output = list()\n",
    "    for user in tqdm(final_df[\"chid\"].values, desc=\"output to csv\"):\n",
    "        inference_data = get_inference_data(user, tags, id_to_num, user_attributes)\n",
    "        user_df = pd.DataFrame(inference_data, columns=columns)\n",
    "        user_model_input = {name:user_df[name].values for name in feature_names}\n",
    "        pred_final = model.predict(user_model_input, batch_size=256)\n",
    "        user_max_tags = tags[np.argsort(pred_final, axis=0)[::-1][:3]]\n",
    "        output.append(np.insert(user_max_tags, 0, user))\n",
    "    \n",
    "    print(output)\n",
    "    output_csv = pd.DataFrame(output, columns=[\"chid\", \"top1\", \"top2\", \"top3\"])\n",
    "    print(output_csv.head(10))\n",
    "    output_csv.to_csv(output_path, index=False)\n",
    "\n",
    "def get_inference_data(user, tags, id_to_num, user_attributes):\n",
    "    #generate data\n",
    "    inference_data = [[id_to_num[user],\n",
    "                      tag,\n",
    "                      user_attributes[user][\"masts\"],\n",
    "                      user_attributes[user][\"txn_cnt\"],\n",
    "                      user_attributes[user][\"educd\"],\n",
    "                      user_attributes[user][\"trdtp\"],\n",
    "                      user_attributes[user][\"naty\"],\n",
    "                      user_attributes[user][\"poscd\"],\n",
    "                      user_attributes[user][\"cuorg\"],\n",
    "                      user_attributes[user][\"gender_code\"],\n",
    "                      user_attributes[user][\"age\"],\n",
    "                      user_attributes[user][\"primary_card\"],\n",
    "                      25]\n",
    "                      for tag in tags]\n",
    "\n",
    "    return inference_data\n"
   ]
  },
  {
   "cell_type": "code",
   "execution_count": null,
   "id": "c48350e3-fe3b-4ab4-9721-8e01b6842868",
   "metadata": {},
   "outputs": [],
   "source": [
    "columns = sparse_features + dense_features\n",
    "make_final(model, tags, feature_names, columns, user_attributes)"
   ]
  },
  {
   "cell_type": "markdown",
   "id": "e258c44a-f66f-487b-8751-11d41e17a689",
   "metadata": {},
   "source": [
    "# Model 2\n",
    "利用使用者屬性資料(使用sample shop tags 資料)"
   ]
  },
  {
   "cell_type": "code",
   "execution_count": 3,
   "id": "6f99c1ab-b961-4a6c-8f1a-dfc1c3dcc09a",
   "metadata": {},
   "outputs": [
    {
     "name": "stderr",
     "output_type": "stream",
     "text": [
      "/opt/homebrew/lib/python3.9/site-packages/IPython/core/interactiveshell.py:3441: DtypeWarning: Columns (2) have mixed types.Specify dtype option on import or set low_memory=False.\n",
      "  exec(code_obj, self.user_global_ns, self.user_ns)\n"
     ]
    },
    {
     "data": {
      "text/plain": [
       "12184616"
      ]
     },
     "execution_count": 3,
     "metadata": {},
     "output_type": "execute_result"
    }
   ],
   "source": [
    "df = pd.read_csv(\"../../data/tbrain_sample.csv\")\n",
    "len(df)"
   ]
  },
  {
   "cell_type": "code",
   "execution_count": 4,
   "id": "da16269b-ad96-4066-a391-6ffb662c404c",
   "metadata": {},
   "outputs": [
    {
     "data": {
      "text/plain": [
       "500000"
      ]
     },
     "execution_count": 4,
     "metadata": {},
     "output_type": "execute_result"
    }
   ],
   "source": [
    "final_df = pd.read_csv(\"../../data/需預測的顧客名單及提交檔案範例.csv\")\n",
    "len(final_df)"
   ]
  },
  {
   "cell_type": "code",
   "execution_count": 5,
   "id": "25dc58a3-2726-4048-b20d-e82f40cebec0",
   "metadata": {},
   "outputs": [],
   "source": [
    "df = df[[\"dt\", \"chid\", \"shop_tag\", \"txn_cnt\", \"txn_amt\", \"masts\", \"educd\", \"trdtp\", \"naty\", \"poscd\", \"cuorg\", \"gender_code\", \"age\", \"primary_card\"]]"
   ]
  },
  {
   "cell_type": "markdown",
   "id": "9c7d2f78-973b-4a2f-9a0e-2d1f57f4cfbb",
   "metadata": {},
   "source": [
    "## Data Preprocess"
   ]
  },
  {
   "cell_type": "markdown",
   "id": "bef5920d-9b79-49b3-a7c3-768474e8d8e1",
   "metadata": {},
   "source": [
    "- 做nan處理\n",
    "- txn_cnt 有負數可以進行排除\n",
    "- 將id 重新編號\n",
    "- 訓練樣本是否需要平衡？平衡後訓練人數會不會下降？\n",
    "- 有些人數沒有出現過在需預測的類別中，因此需思考要如何對這些人做預測\n"
   ]
  },
  {
   "cell_type": "markdown",
   "id": "311b2f18-b1b9-4b49-9b32-293becebd7b2",
   "metadata": {},
   "source": [
    "任一欄位為NAN則排除"
   ]
  },
  {
   "cell_type": "code",
   "execution_count": 6,
   "id": "8bb34110-a057-40f8-b9a1-fc51d74988a0",
   "metadata": {},
   "outputs": [],
   "source": [
    "df.dropna(inplace=True)"
   ]
  },
  {
   "cell_type": "markdown",
   "id": "a6bb3be5-9531-4ed0-baf9-feb8dd71877a",
   "metadata": {},
   "source": [
    "排除消費次數為負數的數值"
   ]
  },
  {
   "cell_type": "code",
   "execution_count": 7,
   "id": "aaccbd76-cf49-41e1-8c9a-c4a1ab862c2f",
   "metadata": {},
   "outputs": [],
   "source": [
    "df = df[df[\"txn_cnt\"]>0]"
   ]
  },
  {
   "cell_type": "markdown",
   "id": "edccfa98-0901-4484-a6cf-b26eab456724",
   "metadata": {},
   "source": [
    "將chid重新編號, 取得最後輸出時需要的chid"
   ]
  },
  {
   "cell_type": "code",
   "execution_count": 8,
   "id": "2d37c876-9205-4d2c-925d-03b29b6165c8",
   "metadata": {},
   "outputs": [],
   "source": [
    "num_to_id = { i:id for i, id in enumerate(final_df[\"chid\"].unique())}\n",
    "id_to_num = { id:i for i, id in enumerate(final_df[\"chid\"].unique())}"
   ]
  },
  {
   "cell_type": "code",
   "execution_count": 9,
   "id": "a162fc49-5474-4d8b-a765-11008e8f5cac",
   "metadata": {},
   "outputs": [],
   "source": [
    "df[\"adj_id\"] = df[\"chid\"].map(id_to_num)"
   ]
  },
  {
   "cell_type": "markdown",
   "id": "735ea6ca-b6dd-4f7d-a970-a62e1702c30a",
   "metadata": {},
   "source": [
    "將以下類別欄位直接轉為int\n",
    "- 婚姻\n",
    "- 教育程度\n",
    "- 行業別\n",
    "- 國籍\n",
    "- 職位別\n",
    "- 客戶來源\n",
    "- 正卡信用額度\n",
    "- 性別代碼\n",
    "- 年紀\n",
    "- 正附卡註記"
   ]
  },
  {
   "cell_type": "code",
   "execution_count": 10,
   "id": "98768959-5280-4e21-8b04-60c36faa734d",
   "metadata": {},
   "outputs": [],
   "source": [
    "df['masts'] = df['masts'].astype(int)\n",
    "df['educd'] = df['educd'].astype(int)\n",
    "df['trdtp'] = df['trdtp'].astype(int)\n",
    "df['naty'] = df['naty'].astype(int)\n",
    "df['poscd'] = df['poscd'].astype(int)\n",
    "df['cuorg'] = df['cuorg'].astype(int)\n",
    "df['gender_code'] = df['gender_code'].astype(int)\n",
    "df['age'] = df['age'].astype(int)\n",
    "df['primary_card'] = df['primary_card'].astype(int)"
   ]
  },
  {
   "cell_type": "markdown",
   "id": "47c7f81a-f9a7-4227-827b-bd5d91cd7489",
   "metadata": {},
   "source": [
    "將消費金額轉為log型態"
   ]
  },
  {
   "cell_type": "code",
   "execution_count": 11,
   "id": "5f324671-a582-4ff9-81a9-b6797f1a3b20",
   "metadata": {},
   "outputs": [],
   "source": [
    "df[\"txn_amt_log\"] = df[\"txn_amt\"].apply(np.log)"
   ]
  },
  {
   "cell_type": "code",
   "execution_count": 12,
   "id": "25d889bb-a514-43c6-a120-cf7598736979",
   "metadata": {},
   "outputs": [
    {
     "data": {
      "text/html": [
       "<div>\n",
       "<style scoped>\n",
       "    .dataframe tbody tr th:only-of-type {\n",
       "        vertical-align: middle;\n",
       "    }\n",
       "\n",
       "    .dataframe tbody tr th {\n",
       "        vertical-align: top;\n",
       "    }\n",
       "\n",
       "    .dataframe thead th {\n",
       "        text-align: right;\n",
       "    }\n",
       "</style>\n",
       "<table border=\"1\" class=\"dataframe\">\n",
       "  <thead>\n",
       "    <tr style=\"text-align: right;\">\n",
       "      <th></th>\n",
       "      <th>chid</th>\n",
       "      <th>shop_tag</th>\n",
       "      <th>txn_cnt</th>\n",
       "      <th>txn_amt</th>\n",
       "      <th>masts</th>\n",
       "      <th>educd</th>\n",
       "      <th>trdtp</th>\n",
       "      <th>naty</th>\n",
       "      <th>poscd</th>\n",
       "      <th>cuorg</th>\n",
       "      <th>gender_code</th>\n",
       "      <th>age</th>\n",
       "      <th>primary_card</th>\n",
       "      <th>adj_id</th>\n",
       "      <th>txn_amt_log</th>\n",
       "    </tr>\n",
       "  </thead>\n",
       "  <tbody>\n",
       "    <tr>\n",
       "      <th>0</th>\n",
       "      <td>10194083</td>\n",
       "      <td>45</td>\n",
       "      <td>2</td>\n",
       "      <td>2829.165439</td>\n",
       "      <td>1</td>\n",
       "      <td>3</td>\n",
       "      <td>2</td>\n",
       "      <td>1</td>\n",
       "      <td>2</td>\n",
       "      <td>30</td>\n",
       "      <td>0</td>\n",
       "      <td>3</td>\n",
       "      <td>1</td>\n",
       "      <td>8700</td>\n",
       "      <td>7.947737</td>\n",
       "    </tr>\n",
       "    <tr>\n",
       "      <th>1</th>\n",
       "      <td>10366793</td>\n",
       "      <td>45</td>\n",
       "      <td>3</td>\n",
       "      <td>10403.646053</td>\n",
       "      <td>1</td>\n",
       "      <td>4</td>\n",
       "      <td>5</td>\n",
       "      <td>1</td>\n",
       "      <td>99</td>\n",
       "      <td>30</td>\n",
       "      <td>1</td>\n",
       "      <td>5</td>\n",
       "      <td>1</td>\n",
       "      <td>91451</td>\n",
       "      <td>9.249912</td>\n",
       "    </tr>\n",
       "    <tr>\n",
       "      <th>2</th>\n",
       "      <td>10456333</td>\n",
       "      <td>45</td>\n",
       "      <td>5</td>\n",
       "      <td>12547.922828</td>\n",
       "      <td>1</td>\n",
       "      <td>4</td>\n",
       "      <td>10</td>\n",
       "      <td>1</td>\n",
       "      <td>4</td>\n",
       "      <td>30</td>\n",
       "      <td>1</td>\n",
       "      <td>6</td>\n",
       "      <td>1</td>\n",
       "      <td>443203</td>\n",
       "      <td>9.437310</td>\n",
       "    </tr>\n",
       "    <tr>\n",
       "      <th>3</th>\n",
       "      <td>10132551</td>\n",
       "      <td>45</td>\n",
       "      <td>2</td>\n",
       "      <td>10554.588142</td>\n",
       "      <td>1</td>\n",
       "      <td>5</td>\n",
       "      <td>15</td>\n",
       "      <td>1</td>\n",
       "      <td>99</td>\n",
       "      <td>30</td>\n",
       "      <td>0</td>\n",
       "      <td>5</td>\n",
       "      <td>0</td>\n",
       "      <td>357792</td>\n",
       "      <td>9.264316</td>\n",
       "    </tr>\n",
       "    <tr>\n",
       "      <th>4</th>\n",
       "      <td>10138738</td>\n",
       "      <td>45</td>\n",
       "      <td>5</td>\n",
       "      <td>11596.021405</td>\n",
       "      <td>1</td>\n",
       "      <td>4</td>\n",
       "      <td>10</td>\n",
       "      <td>1</td>\n",
       "      <td>99</td>\n",
       "      <td>30</td>\n",
       "      <td>1</td>\n",
       "      <td>6</td>\n",
       "      <td>1</td>\n",
       "      <td>159213</td>\n",
       "      <td>9.358417</td>\n",
       "    </tr>\n",
       "    <tr>\n",
       "      <th>5</th>\n",
       "      <td>10148523</td>\n",
       "      <td>45</td>\n",
       "      <td>1</td>\n",
       "      <td>3590.822394</td>\n",
       "      <td>1</td>\n",
       "      <td>4</td>\n",
       "      <td>11</td>\n",
       "      <td>1</td>\n",
       "      <td>1</td>\n",
       "      <td>4</td>\n",
       "      <td>1</td>\n",
       "      <td>5</td>\n",
       "      <td>1</td>\n",
       "      <td>135939</td>\n",
       "      <td>8.186137</td>\n",
       "    </tr>\n",
       "    <tr>\n",
       "      <th>6</th>\n",
       "      <td>10249913</td>\n",
       "      <td>45</td>\n",
       "      <td>1</td>\n",
       "      <td>7752.713479</td>\n",
       "      <td>1</td>\n",
       "      <td>5</td>\n",
       "      <td>11</td>\n",
       "      <td>1</td>\n",
       "      <td>2</td>\n",
       "      <td>30</td>\n",
       "      <td>1</td>\n",
       "      <td>6</td>\n",
       "      <td>1</td>\n",
       "      <td>17324</td>\n",
       "      <td>8.955798</td>\n",
       "    </tr>\n",
       "    <tr>\n",
       "      <th>7</th>\n",
       "      <td>10279409</td>\n",
       "      <td>45</td>\n",
       "      <td>6</td>\n",
       "      <td>18132.147105</td>\n",
       "      <td>2</td>\n",
       "      <td>3</td>\n",
       "      <td>2</td>\n",
       "      <td>1</td>\n",
       "      <td>2</td>\n",
       "      <td>30</td>\n",
       "      <td>1</td>\n",
       "      <td>3</td>\n",
       "      <td>1</td>\n",
       "      <td>472099</td>\n",
       "      <td>9.805442</td>\n",
       "    </tr>\n",
       "    <tr>\n",
       "      <th>8</th>\n",
       "      <td>10346547</td>\n",
       "      <td>45</td>\n",
       "      <td>2</td>\n",
       "      <td>9667.152211</td>\n",
       "      <td>1</td>\n",
       "      <td>3</td>\n",
       "      <td>11</td>\n",
       "      <td>1</td>\n",
       "      <td>2</td>\n",
       "      <td>30</td>\n",
       "      <td>0</td>\n",
       "      <td>5</td>\n",
       "      <td>1</td>\n",
       "      <td>343900</td>\n",
       "      <td>9.176489</td>\n",
       "    </tr>\n",
       "    <tr>\n",
       "      <th>9</th>\n",
       "      <td>10073483</td>\n",
       "      <td>45</td>\n",
       "      <td>1</td>\n",
       "      <td>8019.906666</td>\n",
       "      <td>1</td>\n",
       "      <td>2</td>\n",
       "      <td>3</td>\n",
       "      <td>1</td>\n",
       "      <td>1</td>\n",
       "      <td>30</td>\n",
       "      <td>1</td>\n",
       "      <td>3</td>\n",
       "      <td>1</td>\n",
       "      <td>176278</td>\n",
       "      <td>8.989682</td>\n",
       "    </tr>\n",
       "  </tbody>\n",
       "</table>\n",
       "</div>"
      ],
      "text/plain": [
       "       chid shop_tag  txn_cnt       txn_amt  masts  educd  trdtp  naty  poscd  \\\n",
       "0  10194083       45        2   2829.165439      1      3      2     1      2   \n",
       "1  10366793       45        3  10403.646053      1      4      5     1     99   \n",
       "2  10456333       45        5  12547.922828      1      4     10     1      4   \n",
       "3  10132551       45        2  10554.588142      1      5     15     1     99   \n",
       "4  10138738       45        5  11596.021405      1      4     10     1     99   \n",
       "5  10148523       45        1   3590.822394      1      4     11     1      1   \n",
       "6  10249913       45        1   7752.713479      1      5     11     1      2   \n",
       "7  10279409       45        6  18132.147105      2      3      2     1      2   \n",
       "8  10346547       45        2   9667.152211      1      3     11     1      2   \n",
       "9  10073483       45        1   8019.906666      1      2      3     1      1   \n",
       "\n",
       "   cuorg  gender_code  age  primary_card  adj_id  txn_amt_log  \n",
       "0     30            0    3             1    8700     7.947737  \n",
       "1     30            1    5             1   91451     9.249912  \n",
       "2     30            1    6             1  443203     9.437310  \n",
       "3     30            0    5             0  357792     9.264316  \n",
       "4     30            1    6             1  159213     9.358417  \n",
       "5      4            1    5             1  135939     8.186137  \n",
       "6     30            1    6             1   17324     8.955798  \n",
       "7     30            1    3             1  472099     9.805442  \n",
       "8     30            0    5             1  343900     9.176489  \n",
       "9     30            1    3             1  176278     8.989682  "
      ]
     },
     "execution_count": 12,
     "metadata": {},
     "output_type": "execute_result"
    }
   ],
   "source": [
    "df.head(10)"
   ]
  },
  {
   "cell_type": "code",
   "execution_count": 20,
   "id": "a251bc66-f4f0-47ed-8851-51d51b58be22",
   "metadata": {},
   "outputs": [
    {
     "name": "stderr",
     "output_type": "stream",
     "text": [
      "get attributes:   3%|██▏                                                                              | 13273/500000 [03:09<1:55:49, 70.04it/s]\n"
     ]
    },
    {
     "ename": "KeyboardInterrupt",
     "evalue": "",
     "output_type": "error",
     "traceback": [
      "\u001b[0;31m---------------------------------------------------------------------------\u001b[0m",
      "\u001b[0;31mKeyboardInterrupt\u001b[0m                         Traceback (most recent call last)",
      "\u001b[0;32m/var/folders/kt/x30tbjwn7g96gghmgl32dv3h0000gn/T/ipykernel_22632/3301653167.py\u001b[0m in \u001b[0;36m<module>\u001b[0;34m\u001b[0m\n\u001b[1;32m      6\u001b[0m     \u001b[0;31m# 若是id有存在於訓練資料中，則取得對應數值，否則為0\u001b[0m\u001b[0;34m\u001b[0m\u001b[0;34m\u001b[0m\u001b[0m\n\u001b[1;32m      7\u001b[0m     \u001b[0;32mif\u001b[0m \u001b[0mi\u001b[0m \u001b[0;32min\u001b[0m \u001b[0mtrain_id\u001b[0m\u001b[0;34m:\u001b[0m\u001b[0;34m\u001b[0m\u001b[0;34m\u001b[0m\u001b[0m\n\u001b[0;32m----> 8\u001b[0;31m         \u001b[0mfilter_col\u001b[0m \u001b[0;34m=\u001b[0m \u001b[0mdf\u001b[0m\u001b[0;34m[\u001b[0m\u001b[0mdf\u001b[0m\u001b[0;34m[\u001b[0m\u001b[0;34m\"chid\"\u001b[0m\u001b[0;34m]\u001b[0m\u001b[0;34m==\u001b[0m\u001b[0mi\u001b[0m\u001b[0;34m]\u001b[0m\u001b[0;34m.\u001b[0m\u001b[0miloc\u001b[0m\u001b[0;34m[\u001b[0m\u001b[0;36m0\u001b[0m\u001b[0;34m]\u001b[0m\u001b[0;34m\u001b[0m\u001b[0;34m\u001b[0m\u001b[0m\n\u001b[0m\u001b[1;32m      9\u001b[0m         \u001b[0muser_attributes\u001b[0m\u001b[0;34m[\u001b[0m\u001b[0mi\u001b[0m\u001b[0;34m]\u001b[0m \u001b[0;34m=\u001b[0m \u001b[0;34m{\u001b[0m\u001b[0mcol\u001b[0m\u001b[0;34m:\u001b[0m \u001b[0mfilter_col\u001b[0m\u001b[0;34m[\u001b[0m\u001b[0mcol\u001b[0m\u001b[0;34m]\u001b[0m\u001b[0;34m.\u001b[0m\u001b[0mastype\u001b[0m\u001b[0;34m(\u001b[0m\u001b[0;34m\"int\"\u001b[0m\u001b[0;34m)\u001b[0m \u001b[0;32mfor\u001b[0m \u001b[0mcol\u001b[0m \u001b[0;32min\u001b[0m \u001b[0mgenerate_col\u001b[0m\u001b[0;34m}\u001b[0m\u001b[0;34m\u001b[0m\u001b[0;34m\u001b[0m\u001b[0m\n\u001b[1;32m     10\u001b[0m     \u001b[0;32melse\u001b[0m\u001b[0;34m:\u001b[0m\u001b[0;34m\u001b[0m\u001b[0;34m\u001b[0m\u001b[0m\n",
      "\u001b[0;32m/opt/homebrew/lib/python3.9/site-packages/pandas/core/frame.py\u001b[0m in \u001b[0;36m__getitem__\u001b[0;34m(self, key)\u001b[0m\n\u001b[1;32m   3447\u001b[0m         \u001b[0;31m# Do we have a (boolean) 1d indexer?\u001b[0m\u001b[0;34m\u001b[0m\u001b[0;34m\u001b[0m\u001b[0m\n\u001b[1;32m   3448\u001b[0m         \u001b[0;32mif\u001b[0m \u001b[0mcom\u001b[0m\u001b[0;34m.\u001b[0m\u001b[0mis_bool_indexer\u001b[0m\u001b[0;34m(\u001b[0m\u001b[0mkey\u001b[0m\u001b[0;34m)\u001b[0m\u001b[0;34m:\u001b[0m\u001b[0;34m\u001b[0m\u001b[0;34m\u001b[0m\u001b[0m\n\u001b[0;32m-> 3449\u001b[0;31m             \u001b[0;32mreturn\u001b[0m \u001b[0mself\u001b[0m\u001b[0;34m.\u001b[0m\u001b[0m_getitem_bool_array\u001b[0m\u001b[0;34m(\u001b[0m\u001b[0mkey\u001b[0m\u001b[0;34m)\u001b[0m\u001b[0;34m\u001b[0m\u001b[0;34m\u001b[0m\u001b[0m\n\u001b[0m\u001b[1;32m   3450\u001b[0m \u001b[0;34m\u001b[0m\u001b[0m\n\u001b[1;32m   3451\u001b[0m         \u001b[0;31m# We are left with two options: a single key, and a collection of keys,\u001b[0m\u001b[0;34m\u001b[0m\u001b[0;34m\u001b[0m\u001b[0m\n",
      "\u001b[0;32m/opt/homebrew/lib/python3.9/site-packages/pandas/core/frame.py\u001b[0m in \u001b[0;36m_getitem_bool_array\u001b[0;34m(self, key)\u001b[0m\n\u001b[1;32m   3501\u001b[0m         \u001b[0;31m# be reindexed to match DataFrame rows\u001b[0m\u001b[0;34m\u001b[0m\u001b[0;34m\u001b[0m\u001b[0m\n\u001b[1;32m   3502\u001b[0m         \u001b[0mkey\u001b[0m \u001b[0;34m=\u001b[0m \u001b[0mcheck_bool_indexer\u001b[0m\u001b[0;34m(\u001b[0m\u001b[0mself\u001b[0m\u001b[0;34m.\u001b[0m\u001b[0mindex\u001b[0m\u001b[0;34m,\u001b[0m \u001b[0mkey\u001b[0m\u001b[0;34m)\u001b[0m\u001b[0;34m\u001b[0m\u001b[0;34m\u001b[0m\u001b[0m\n\u001b[0;32m-> 3503\u001b[0;31m         \u001b[0mindexer\u001b[0m \u001b[0;34m=\u001b[0m \u001b[0mkey\u001b[0m\u001b[0;34m.\u001b[0m\u001b[0mnonzero\u001b[0m\u001b[0;34m(\u001b[0m\u001b[0;34m)\u001b[0m\u001b[0;34m[\u001b[0m\u001b[0;36m0\u001b[0m\u001b[0;34m]\u001b[0m\u001b[0;34m\u001b[0m\u001b[0;34m\u001b[0m\u001b[0m\n\u001b[0m\u001b[1;32m   3504\u001b[0m         \u001b[0;32mreturn\u001b[0m \u001b[0mself\u001b[0m\u001b[0;34m.\u001b[0m\u001b[0m_take_with_is_copy\u001b[0m\u001b[0;34m(\u001b[0m\u001b[0mindexer\u001b[0m\u001b[0;34m,\u001b[0m \u001b[0maxis\u001b[0m\u001b[0;34m=\u001b[0m\u001b[0;36m0\u001b[0m\u001b[0;34m)\u001b[0m\u001b[0;34m\u001b[0m\u001b[0;34m\u001b[0m\u001b[0m\n\u001b[1;32m   3505\u001b[0m \u001b[0;34m\u001b[0m\u001b[0m\n",
      "\u001b[0;31mKeyboardInterrupt\u001b[0m: "
     ]
    }
   ],
   "source": [
    "# 建立使用者屬性\n",
    "user_attributes = dict()\n",
    "train_id = df[\"chid\"].unique()\n",
    "generate_col = [\"masts\", \"txn_cnt\", \"educd\", \"trdtp\", \"naty\", \"poscd\", \"cuorg\", \"gender_code\", \"age\", \"primary_card\"]\n",
    "for i in tqdm(final_df[\"chid\"].unique(), desc=\"get attributes\"):\n",
    "    # 若是id有存在於訓練資料中，則取得對應數值，否則為0\n",
    "    if i in train_id:\n",
    "        filter_col = df[df[\"chid\"]==i].iloc[0]\n",
    "        user_attributes[i] = {col: filter_col[col].astype(\"int\") for col in generate_col}\n",
    "    else:\n",
    "        user_attributes[i] = {col: 0 for col in generate_col}"
   ]
  },
  {
   "cell_type": "code",
   "execution_count": 16,
   "id": "78665535-8e5a-4535-8507-7e460ca90234",
   "metadata": {},
   "outputs": [],
   "source": [
    "df = df.drop(columns=[\"chid\", \"txn_amt\"])"
   ]
  },
  {
   "cell_type": "markdown",
   "id": "b867f6db-760a-4e00-be04-c6ab178c541d",
   "metadata": {},
   "source": [
    "## Model Training"
   ]
  },
  {
   "cell_type": "code",
   "execution_count": null,
   "id": "c2713553-31d4-4778-a855-2e074564812b",
   "metadata": {},
   "outputs": [],
   "source": [
    "def run_model(train_data, feature_names,linear_feature_columns, dnn_feature_columns, target, save_path):\n",
    "    # traing data & testing data\n",
    "    train, test = train_test_split(train_data, test_size=0.2, random_state=66)\n",
    "    \n",
    "    #training \n",
    "    train_model_input = {name:train[name].values for name in feature_names}\n",
    "    test_model_input = {name:test[name].values for name in feature_names}\n",
    "\n",
    "    model = DeepFM(linear_feature_columns,dnn_feature_columns,task='regression')\n",
    "    model.compile(\"adam\", \"mse\",\n",
    "                  metrics=['mse'], )\n",
    "    history = model.fit(train_model_input, train[target].values,\n",
    "                        batch_size=256, epochs=10, verbose=2, validation_split=0.2)\n",
    "    \n",
    "    # save model \n",
    "    model.save_weights(save_path)\n",
    "    \n",
    "    return model\n",
    "\n",
    "def get_feature(data, sparse_features, dense_features):\n",
    "    #normalize dense\n",
    "    mms = MinMaxScaler(feature_range=(0,1))\n",
    "    data[dense_features] = mms.fit_transform(data[dense_features])\n",
    "    \n",
    "    #generate faeture columns \n",
    "    fixlen_feature_columns = [SparseFeat(feat, vocabulary_size=data[feat].max() + 1,embedding_dim=4)\n",
    "                       for i,feat in enumerate(sparse_features)] + [DenseFeat(feat, 1,)\n",
    "                      for feat in dense_features]\n",
    "    dnn_feature_columns = fixlen_feature_columns\n",
    "    linear_feature_columns = fixlen_feature_columns\n",
    "    feature_names = get_feature_names(linear_feature_columns + dnn_feature_columns)\n",
    "    \n",
    "    return data, feature_names, linear_feature_columns, dnn_feature_columns"
   ]
  },
  {
   "cell_type": "code",
   "execution_count": null,
   "id": "1dca028f-aab6-4c38-a652-133fb52005f8",
   "metadata": {},
   "outputs": [],
   "source": [
    "sparse_features = [\"adj_id\", \"shop_tag\", \"masts\", \"txn_cnt\", \"educd\", \"trdtp\", \"naty\", \"poscd\", \"cuorg\", \"gender_code\", \"age\", \"primary_card\"]\n",
    "dense_features = [\"dt\"]\n",
    "target = [\"txn_amt_log\"]\n",
    "save_path = \"../model/DeepFM_2.h5\"\n",
    "#generate faeture columns\n",
    "df, feature_names, linear_feature_columns, dnn_feature_columns = get_feature(df, sparse_features, dense_features)\n",
    "\n",
    "model = run_model(df, sparse_features, dense_features, target, save_path)"
   ]
  },
  {
   "cell_type": "markdown",
   "id": "4588e22d-ee9f-4980-ae20-d4763b0ef493",
   "metadata": {},
   "source": [
    "## output csv"
   ]
  },
  {
   "cell_type": "code",
   "execution_count": null,
   "id": "55c1e9a0-e181-4d09-95e3-6d0822bcd9d9",
   "metadata": {},
   "outputs": [],
   "source": [
    "def make_final(model, tags, feature_names, columns, user_attributes):\n",
    "    final_df = pd.read_csv(\"../../data/需預測的顧客名單及提交檔案範例.csv\")\n",
    "    output_path = \"../fm_2.csv\"\n",
    "    id_to_num = {id:i for i, id in enumerate(final_df[\"chid\"].unique())}\n",
    "    output = list()\n",
    "    for user in tqdm(final_df[\"chid\"].values, desc=\"output to csv\"):\n",
    "        inference_data = get_inference_data(user, tags, id_to_num, user_attributes)\n",
    "        user_df = pd.DataFrame(inference_data, columns=columns)\n",
    "        user_model_input = {name:user_df[name].values for name in feature_names}\n",
    "        pred_final = model.predict(user_model_input, batch_size=256)\n",
    "        user_max_tags = tags[np.argsort(pred_final, axis=0)[::-1][:3]]\n",
    "        output.append(np.insert(user_max_tags, 0, user))\n",
    "    \n",
    "    print(output)\n",
    "    output_csv = pd.DataFrame(output, columns=[\"chid\", \"top1\", \"top2\", \"top3\"])\n",
    "    print(output_csv.head(10))\n",
    "    output_csv.to_csv(output_path, index=False)\n",
    "\n",
    "def get_inference_data(user, tags, id_to_num, user_attributes):\n",
    "    #generate data\n",
    "    inference_data = [[id_to_num[user],\n",
    "                      tag,\n",
    "                      user_attributes[user][\"masts\"],\n",
    "                      user_attributes[user][\"txn_cnt\"],\n",
    "                      user_attributes[user][\"educd\"],\n",
    "                      user_attributes[user][\"trdtp\"],\n",
    "                      user_attributes[user][\"naty\"],\n",
    "                      user_attributes[user][\"poscd\"],\n",
    "                      user_attributes[user][\"cuorg\"],\n",
    "                      user_attributes[user][\"gender_code\"],\n",
    "                      user_attributes[user][\"age\"],\n",
    "                      user_attributes[user][\"primary_card\"],\n",
    "                      25]\n",
    "                      for tag in tags]\n",
    "\n",
    "    return inference_data\n"
   ]
  },
  {
   "cell_type": "code",
   "execution_count": null,
   "id": "848afeac-4749-4c73-93c5-54665b4b123f",
   "metadata": {},
   "outputs": [],
   "source": [
    "columns = sparse_features + dense_features\n",
    "make_final(model, tags, feature_names, columns, user_attributes)"
   ]
  }
 ],
 "metadata": {
  "kernelspec": {
   "display_name": "Python 3 (ipykernel)",
   "language": "python",
   "name": "python3"
  },
  "language_info": {
   "codemirror_mode": {
    "name": "ipython",
    "version": 3
   },
   "file_extension": ".py",
   "mimetype": "text/x-python",
   "name": "python",
   "nbconvert_exporter": "python",
   "pygments_lexer": "ipython3",
   "version": "3.9.7"
  }
 },
 "nbformat": 4,
 "nbformat_minor": 5
}
