{
 "cells": [
  {
   "cell_type": "markdown",
   "id": "e6434bc4-bf2d-4cb8-bc11-c8e78e04c01d",
   "metadata": {},
   "source": [
    "# Import Library"
   ]
  },
  {
   "cell_type": "code",
   "execution_count": 25,
   "id": "f706bb5e-511d-4a4d-86e8-3c7524a7e57a",
   "metadata": {},
   "outputs": [],
   "source": [
    "import sys\n",
    "sys.path.append('/Users/baron/Research/ncku/Recommendation/credict_recsys')\n",
    "\n",
    "import pandas as pd\n",
    "from sklearn.model_selection import train_test_split\n",
    "import numpy as np\n",
    "from sklearn.preprocessing import LabelEncoder, MinMaxScaler\n",
    "from apps.inference import make_final\n",
    "from tqdm import tqdm"
   ]
  },
  {
   "cell_type": "code",
   "execution_count": null,
   "id": "1d9efd45-f4bf-4407-8a4d-4e2f353d6c61",
   "metadata": {},
   "outputs": [],
   "source": [
    "from deepctr.models import DeepFM\n",
    "from deepctr.feature_column import SparseFeat, DenseFeat,get_feature_names"
   ]
  },
  {
   "cell_type": "markdown",
   "id": "5d89ef04-7a68-420b-80cf-dcae43ea5b82",
   "metadata": {},
   "source": [
    "# 資料讀取"
   ]
  },
  {
   "cell_type": "code",
   "execution_count": 2,
   "id": "f36a9d96-040e-4fd3-bea6-7a817f7cfe91",
   "metadata": {},
   "outputs": [
    {
     "data": {
      "text/plain": [
       "22130579"
      ]
     },
     "execution_count": 2,
     "metadata": {},
     "output_type": "execute_result"
    }
   ],
   "source": [
    "df = pd.read_csv(\"../../data/tbrain_small.csv\")\n",
    "len(df)"
   ]
  },
  {
   "cell_type": "code",
   "execution_count": 8,
   "id": "1147eaa1-d52e-4e24-997d-2e9c46a28fd8",
   "metadata": {},
   "outputs": [
    {
     "data": {
      "text/plain": [
       "500000"
      ]
     },
     "execution_count": 8,
     "metadata": {},
     "output_type": "execute_result"
    }
   ],
   "source": [
    "final_df = pd.read_csv(\"../../data/需預測的顧客名單及提交檔案範例.csv\")\n",
    "len(final_df)"
   ]
  },
  {
   "cell_type": "code",
   "execution_count": 3,
   "id": "510a5207-690a-42f4-a71c-ae88695b0464",
   "metadata": {},
   "outputs": [],
   "source": [
    "df = df.drop(columns=['Unnamed: 0'])"
   ]
  },
  {
   "cell_type": "markdown",
   "id": "9924354b-dbe7-45e3-9362-cabc450b556e",
   "metadata": {},
   "source": [
    "# Model 1\n",
    "利用使用者屬性資料"
   ]
  },
  {
   "cell_type": "code",
   "execution_count": 4,
   "id": "967b6e63-5920-45b2-81f5-c9b7c3e85f1a",
   "metadata": {},
   "outputs": [],
   "source": [
    "df = df[[\"chid\", \"shop_tag\", \"txn_cnt\", \"txn_amt\", \"masts\", \"educd\", \"trdtp\", \"naty\", \"poscd\", \"cuorg\", \"gender_code\", \"age\", \"primary_card\"]]"
   ]
  },
  {
   "cell_type": "markdown",
   "id": "453f54fe-75eb-479f-9632-64bd09344ad1",
   "metadata": {},
   "source": [
    "## Data Preprocess"
   ]
  },
  {
   "cell_type": "markdown",
   "id": "753d87c2-8949-4342-9e43-93260cf1ea61",
   "metadata": {},
   "source": [
    "- 做nan處理\n",
    "- txn_cnt 有負數可以進行排除\n",
    "- 將id 重新編號\n",
    "- 訓練樣本是否需要平衡？平衡後訓練人數會不會下降？\n",
    "- 有些人數沒有出現過在需預測的類別中，因此需思考要如何對這些人做預測\n"
   ]
  },
  {
   "cell_type": "markdown",
   "id": "7e4836b9-63d0-49c2-9b0a-dcc27f141cb5",
   "metadata": {},
   "source": [
    "任一欄位為NAN則排除"
   ]
  },
  {
   "cell_type": "code",
   "execution_count": 5,
   "id": "5cab8d0e-f07e-436f-8052-d53f6d728b57",
   "metadata": {},
   "outputs": [],
   "source": [
    "df.dropna(inplace=True)"
   ]
  },
  {
   "cell_type": "markdown",
   "id": "df6c7644-39df-4a5b-9463-7d088c2fff8b",
   "metadata": {},
   "source": [
    "排除消費次數為負數的數值"
   ]
  },
  {
   "cell_type": "code",
   "execution_count": 6,
   "id": "0cf6251d-add9-49b5-9271-e44d45c76239",
   "metadata": {},
   "outputs": [],
   "source": [
    "df = df[df[\"txn_cnt\"]>0]"
   ]
  },
  {
   "cell_type": "markdown",
   "id": "c3e42d82-32b2-424e-a63f-bd565051d279",
   "metadata": {},
   "source": [
    "將chid重新編號, 取得最後輸出時需要的chid"
   ]
  },
  {
   "cell_type": "code",
   "execution_count": 9,
   "id": "91810822-c94d-4b23-ba31-2d268c3941c8",
   "metadata": {},
   "outputs": [],
   "source": [
    "num_to_id = { i:id for i, id in enumerate(final_df[\"chid\"].unique())}\n",
    "id_to_num = { id:i for i, id in enumerate(final_df[\"chid\"].unique())}"
   ]
  },
  {
   "cell_type": "code",
   "execution_count": 10,
   "id": "872c0f83-c92c-42a0-97f9-4676010106d7",
   "metadata": {},
   "outputs": [],
   "source": [
    "df[\"adj_id\"] = df[\"chid\"].map(id_to_num)"
   ]
  },
  {
   "cell_type": "markdown",
   "id": "f1984942-5705-4a29-8966-ffd3dff327fd",
   "metadata": {},
   "source": [
    "將以下類別欄位直接轉為int\n",
    "- 婚姻\n",
    "- 教育程度\n",
    "- 行業別\n",
    "- 國籍\n",
    "- 職位別\n",
    "- 客戶來源\n",
    "- 正卡信用額度\n",
    "- 性別代碼\n",
    "- 年紀\n",
    "- 正附卡註記"
   ]
  },
  {
   "cell_type": "code",
   "execution_count": 14,
   "id": "7d64f376-5ad5-416a-9626-09184f427dd2",
   "metadata": {},
   "outputs": [],
   "source": [
    "df['masts'] = df['masts'].astype(int)\n",
    "df['educd'] = df['educd'].astype(int)\n",
    "df['trdtp'] = df['trdtp'].astype(int)\n",
    "df['naty'] = df['naty'].astype(int)\n",
    "df['poscd'] = df['poscd'].astype(int)\n",
    "df['cuorg'] = df['cuorg'].astype(int)\n",
    "df['gender_code'] = df['gender_code'].astype(int)\n",
    "df['age'] = df['age'].astype(int)\n",
    "df['primary_card'] = df['primary_card'].astype(int)"
   ]
  },
  {
   "cell_type": "markdown",
   "id": "0e0b9795-9506-4ace-9c0d-7f4d154b19e5",
   "metadata": {},
   "source": [
    "將消費金額轉為log型態"
   ]
  },
  {
   "cell_type": "code",
   "execution_count": 12,
   "id": "1553c54f-ecef-4948-bff5-71a514de11a7",
   "metadata": {},
   "outputs": [],
   "source": [
    "df[\"txn_amt_log\"] = df[\"txn_amt\"].apply(np.log)"
   ]
  },
  {
   "cell_type": "code",
   "execution_count": 15,
   "id": "19848079-b368-48dd-b11f-974d6c3e2c7d",
   "metadata": {},
   "outputs": [
    {
     "data": {
      "text/html": [
       "<div>\n",
       "<style scoped>\n",
       "    .dataframe tbody tr th:only-of-type {\n",
       "        vertical-align: middle;\n",
       "    }\n",
       "\n",
       "    .dataframe tbody tr th {\n",
       "        vertical-align: top;\n",
       "    }\n",
       "\n",
       "    .dataframe thead th {\n",
       "        text-align: right;\n",
       "    }\n",
       "</style>\n",
       "<table border=\"1\" class=\"dataframe\">\n",
       "  <thead>\n",
       "    <tr style=\"text-align: right;\">\n",
       "      <th></th>\n",
       "      <th>chid</th>\n",
       "      <th>shop_tag</th>\n",
       "      <th>txn_cnt</th>\n",
       "      <th>txn_amt</th>\n",
       "      <th>masts</th>\n",
       "      <th>educd</th>\n",
       "      <th>trdtp</th>\n",
       "      <th>naty</th>\n",
       "      <th>poscd</th>\n",
       "      <th>cuorg</th>\n",
       "      <th>gender_code</th>\n",
       "      <th>age</th>\n",
       "      <th>primary_card</th>\n",
       "      <th>adj_id</th>\n",
       "      <th>txn_amt_log</th>\n",
       "    </tr>\n",
       "  </thead>\n",
       "  <tbody>\n",
       "    <tr>\n",
       "      <th>0</th>\n",
       "      <td>10267183</td>\n",
       "      <td>2</td>\n",
       "      <td>1</td>\n",
       "      <td>21701.307598</td>\n",
       "      <td>2</td>\n",
       "      <td>6</td>\n",
       "      <td>15</td>\n",
       "      <td>1</td>\n",
       "      <td>99</td>\n",
       "      <td>30</td>\n",
       "      <td>0</td>\n",
       "      <td>6</td>\n",
       "      <td>0</td>\n",
       "      <td>354909</td>\n",
       "      <td>9.985128</td>\n",
       "    </tr>\n",
       "    <tr>\n",
       "      <th>1</th>\n",
       "      <td>10115966</td>\n",
       "      <td>2</td>\n",
       "      <td>1</td>\n",
       "      <td>6698.199203</td>\n",
       "      <td>1</td>\n",
       "      <td>4</td>\n",
       "      <td>9</td>\n",
       "      <td>1</td>\n",
       "      <td>1</td>\n",
       "      <td>30</td>\n",
       "      <td>0</td>\n",
       "      <td>5</td>\n",
       "      <td>1</td>\n",
       "      <td>354911</td>\n",
       "      <td>8.809594</td>\n",
       "    </tr>\n",
       "    <tr>\n",
       "      <th>2</th>\n",
       "      <td>10484590</td>\n",
       "      <td>2</td>\n",
       "      <td>2</td>\n",
       "      <td>6693.510475</td>\n",
       "      <td>2</td>\n",
       "      <td>2</td>\n",
       "      <td>15</td>\n",
       "      <td>1</td>\n",
       "      <td>99</td>\n",
       "      <td>30</td>\n",
       "      <td>0</td>\n",
       "      <td>3</td>\n",
       "      <td>1</td>\n",
       "      <td>354959</td>\n",
       "      <td>8.808894</td>\n",
       "    </tr>\n",
       "    <tr>\n",
       "      <th>3</th>\n",
       "      <td>10079974</td>\n",
       "      <td>2</td>\n",
       "      <td>1</td>\n",
       "      <td>3271.025090</td>\n",
       "      <td>2</td>\n",
       "      <td>2</td>\n",
       "      <td>2</td>\n",
       "      <td>1</td>\n",
       "      <td>2</td>\n",
       "      <td>30</td>\n",
       "      <td>0</td>\n",
       "      <td>4</td>\n",
       "      <td>1</td>\n",
       "      <td>354992</td>\n",
       "      <td>8.092859</td>\n",
       "    </tr>\n",
       "    <tr>\n",
       "      <th>4</th>\n",
       "      <td>10233949</td>\n",
       "      <td>2</td>\n",
       "      <td>1</td>\n",
       "      <td>2829.165439</td>\n",
       "      <td>1</td>\n",
       "      <td>5</td>\n",
       "      <td>15</td>\n",
       "      <td>1</td>\n",
       "      <td>99</td>\n",
       "      <td>30</td>\n",
       "      <td>1</td>\n",
       "      <td>6</td>\n",
       "      <td>1</td>\n",
       "      <td>354949</td>\n",
       "      <td>7.947737</td>\n",
       "    </tr>\n",
       "    <tr>\n",
       "      <th>5</th>\n",
       "      <td>10488184</td>\n",
       "      <td>2</td>\n",
       "      <td>2</td>\n",
       "      <td>8407.700040</td>\n",
       "      <td>2</td>\n",
       "      <td>3</td>\n",
       "      <td>12</td>\n",
       "      <td>1</td>\n",
       "      <td>6</td>\n",
       "      <td>30</td>\n",
       "      <td>1</td>\n",
       "      <td>4</td>\n",
       "      <td>1</td>\n",
       "      <td>355015</td>\n",
       "      <td>9.036903</td>\n",
       "    </tr>\n",
       "    <tr>\n",
       "      <th>6</th>\n",
       "      <td>10038204</td>\n",
       "      <td>2</td>\n",
       "      <td>2</td>\n",
       "      <td>7604.385348</td>\n",
       "      <td>2</td>\n",
       "      <td>3</td>\n",
       "      <td>11</td>\n",
       "      <td>1</td>\n",
       "      <td>2</td>\n",
       "      <td>30</td>\n",
       "      <td>1</td>\n",
       "      <td>3</td>\n",
       "      <td>1</td>\n",
       "      <td>352405</td>\n",
       "      <td>8.936480</td>\n",
       "    </tr>\n",
       "    <tr>\n",
       "      <th>7</th>\n",
       "      <td>10050073</td>\n",
       "      <td>2</td>\n",
       "      <td>2</td>\n",
       "      <td>31743.259948</td>\n",
       "      <td>1</td>\n",
       "      <td>6</td>\n",
       "      <td>15</td>\n",
       "      <td>1</td>\n",
       "      <td>99</td>\n",
       "      <td>30</td>\n",
       "      <td>0</td>\n",
       "      <td>6</td>\n",
       "      <td>1</td>\n",
       "      <td>354960</td>\n",
       "      <td>10.365436</td>\n",
       "    </tr>\n",
       "    <tr>\n",
       "      <th>8</th>\n",
       "      <td>10436047</td>\n",
       "      <td>2</td>\n",
       "      <td>1</td>\n",
       "      <td>4333.009825</td>\n",
       "      <td>2</td>\n",
       "      <td>3</td>\n",
       "      <td>11</td>\n",
       "      <td>1</td>\n",
       "      <td>2</td>\n",
       "      <td>30</td>\n",
       "      <td>0</td>\n",
       "      <td>2</td>\n",
       "      <td>1</td>\n",
       "      <td>355022</td>\n",
       "      <td>8.374018</td>\n",
       "    </tr>\n",
       "    <tr>\n",
       "      <th>9</th>\n",
       "      <td>10193951</td>\n",
       "      <td>2</td>\n",
       "      <td>5</td>\n",
       "      <td>24049.208333</td>\n",
       "      <td>2</td>\n",
       "      <td>2</td>\n",
       "      <td>17</td>\n",
       "      <td>1</td>\n",
       "      <td>2</td>\n",
       "      <td>30</td>\n",
       "      <td>0</td>\n",
       "      <td>3</td>\n",
       "      <td>1</td>\n",
       "      <td>354941</td>\n",
       "      <td>10.087857</td>\n",
       "    </tr>\n",
       "  </tbody>\n",
       "</table>\n",
       "</div>"
      ],
      "text/plain": [
       "       chid  shop_tag  txn_cnt       txn_amt  masts  educd  trdtp  naty  \\\n",
       "0  10267183         2        1  21701.307598      2      6     15     1   \n",
       "1  10115966         2        1   6698.199203      1      4      9     1   \n",
       "2  10484590         2        2   6693.510475      2      2     15     1   \n",
       "3  10079974         2        1   3271.025090      2      2      2     1   \n",
       "4  10233949         2        1   2829.165439      1      5     15     1   \n",
       "5  10488184         2        2   8407.700040      2      3     12     1   \n",
       "6  10038204         2        2   7604.385348      2      3     11     1   \n",
       "7  10050073         2        2  31743.259948      1      6     15     1   \n",
       "8  10436047         2        1   4333.009825      2      3     11     1   \n",
       "9  10193951         2        5  24049.208333      2      2     17     1   \n",
       "\n",
       "   poscd  cuorg  gender_code  age  primary_card  adj_id  txn_amt_log  \n",
       "0     99     30            0    6             0  354909     9.985128  \n",
       "1      1     30            0    5             1  354911     8.809594  \n",
       "2     99     30            0    3             1  354959     8.808894  \n",
       "3      2     30            0    4             1  354992     8.092859  \n",
       "4     99     30            1    6             1  354949     7.947737  \n",
       "5      6     30            1    4             1  355015     9.036903  \n",
       "6      2     30            1    3             1  352405     8.936480  \n",
       "7     99     30            0    6             1  354960    10.365436  \n",
       "8      2     30            0    2             1  355022     8.374018  \n",
       "9      2     30            0    3             1  354941    10.087857  "
      ]
     },
     "execution_count": 15,
     "metadata": {},
     "output_type": "execute_result"
    }
   ],
   "source": [
    "df.head(10)"
   ]
  },
  {
   "cell_type": "code",
   "execution_count": null,
   "id": "e17b7084-4f3a-42b7-8472-6435c639e858",
   "metadata": {},
   "outputs": [],
   "source": [
    "# 建立使用者屬性\n",
    "user_attributes = dict()\n",
    "train_id = df[\"chid\"].unique()\n",
    "for i in tqdm(final_df[\"chid\"].unique(), desc=\"get attributes\"):\n",
    "    # 若是id有存在於訓練資料中，則取得對應數值，否則為0\n",
    "    user_attributes[i] = {\"masts\": df[df[\"chid\"]==i][\"masts\"].values[0] if i in train_id else 0,\n",
    "                          \"txn_cnt\": df[df[\"chid\"]==i][\"txn_cnt\"].values[0] if i in train_id else 0,\n",
    "                          \"educd\": df[df[\"chid\"]==i][\"educd\"].values[0] if i in train_id else 0,\n",
    "                          \"trdtp\": df[df[\"chid\"]==i][\"trdtp\"].values[0] if i in train_id else 0,\n",
    "                          \"naty\": df[df[\"chid\"]==i][\"naty\"].values[0] if i in train_id else 0,\n",
    "                          \"poscd\": df[df[\"chid\"]==i][\"poscd\"].values[0] if i in train_id else 0,\n",
    "                          \"cuorg\": df[df[\"chid\"]==i][\"cuorg\"].values[0] if i in train_id else 0,\n",
    "                          \"gender_code\": df[df[\"chid\"]==i][\"gender_code\"].values[0] if i in train_id else 0,\n",
    "                          \"age\": df[df[\"chid\"]==i][\"age\"].values[0] if i in train_id else 0,\n",
    "                          \"primary_card\": df[df[\"chid\"]==i][\"primary_card\"].values[0] if i in train_id else 0}"
   ]
  },
  {
   "cell_type": "code",
   "execution_count": 16,
   "id": "c104eedf-bd38-45bb-9714-75206169c402",
   "metadata": {},
   "outputs": [],
   "source": [
    "df = df.drop(columns=[\"chid\", \"txn_amt\"])"
   ]
  },
  {
   "cell_type": "markdown",
   "id": "a9648686-ba40-465b-a743-c0e6e994420f",
   "metadata": {},
   "source": [
    "## Model Training"
   ]
  },
  {
   "cell_type": "code",
   "execution_count": null,
   "id": "1a3245f8-e68e-4e22-b2bb-f62c8f97b748",
   "metadata": {},
   "outputs": [],
   "source": [
    "def run_model(train_data, sparse_features, dense_features, target, save_path):\n",
    "    #normalize dense\n",
    "    mms = MinMaxScaler(feature_range=(0,1))\n",
    "    train[dense_features] = mms.fit_transform(train_data[dense_features])\n",
    "    \n",
    "    #generate faeture columns \n",
    "    fixlen_feature_columns = [SparseFeat(feat, vocabulary_size=train_data[feat].max() + 1,embedding_dim=4)\n",
    "                       for i,feat in enumerate(sparse_features)] + [DenseFeat(feat, 1,)\n",
    "                      for feat in dense_features]\n",
    "    dnn_feature_columns = fixlen_feature_columns\n",
    "    linear_feature_columns = fixlen_feature_columns\n",
    "    feature_names = get_feature_names(linear_feature_columns + dnn_feature_columns)\n",
    "    \n",
    "    # traing data & testing data\n",
    "    train, test = train_test_split(train_data, test_size=0.2, random_state=66)\n",
    "    \n",
    "    #training \n",
    "    train_model_input = {name:train[name].values for name in feature_names}\n",
    "    test_model_input = {name:test[name].values for name in feature_names}\n",
    "\n",
    "    model = DeepFM(linear_feature_columns,dnn_feature_columns,task='regression')\n",
    "    model.compile(\"adam\", \"mse\",\n",
    "                  metrics=['mse'], )\n",
    "    history = model.fit(train_model_input, train[target].values,\n",
    "                        batch_size=256, epochs=10, verbose=2, validation_split=0.2)\n",
    "    \n",
    "    # save model \n",
    "    model.save_weights(save_path)\n",
    "    \n",
    "    return model"
   ]
  },
  {
   "cell_type": "code",
   "execution_count": null,
   "id": "a345a55d-525c-4339-aa2f-cfa69e4d7e06",
   "metadata": {},
   "outputs": [],
   "source": [
    "sparse_features = [\"adj_id\", \"shop_tag\", \"masts\", \"txn_cnt\", \"educd\", \"trdtp\", \"naty\", \"poscd\", \"cuorg\", \"gender_code\", \"age\", \"primary_card\"]\n",
    "dense_features = [\"dt\"]\n",
    "target = [\"txn_amt_log\"]\n",
    "save_path = \"../model/DeepFM_1.h5\"\n",
    "\n",
    "model = run_model(df, sparse_features, dense_features, target, save_path)"
   ]
  },
  {
   "cell_type": "markdown",
   "id": "6bbfc8aa-59c4-4b30-8b57-a656f34e2f82",
   "metadata": {},
   "source": [
    "## output csv"
   ]
  },
  {
   "cell_type": "code",
   "execution_count": null,
   "id": "c48350e3-fe3b-4ab4-9721-8e01b6842868",
   "metadata": {},
   "outputs": [],
   "source": [
    "make_final(model, tags, feature_names, columns, user_attributes)"
   ]
  }
 ],
 "metadata": {
  "kernelspec": {
   "display_name": "Python 3 (ipykernel)",
   "language": "python",
   "name": "python3"
  },
  "language_info": {
   "codemirror_mode": {
    "name": "ipython",
    "version": 3
   },
   "file_extension": ".py",
   "mimetype": "text/x-python",
   "name": "python",
   "nbconvert_exporter": "python",
   "pygments_lexer": "ipython3",
   "version": "3.9.7"
  }
 },
 "nbformat": 4,
 "nbformat_minor": 5
}
