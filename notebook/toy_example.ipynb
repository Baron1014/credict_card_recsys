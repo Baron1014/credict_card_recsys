{
 "cells": [
  {
   "cell_type": "code",
   "execution_count": 1,
   "id": "fe0770c1-13d5-4e68-9e02-4a747794c0ee",
   "metadata": {},
   "outputs": [],
   "source": [
    "import pandas as pd\n",
    "from sklearn.model_selection import train_test_split\n",
    "import numpy as np\n",
    "from sklearn.preprocessing import LabelEncoder, MinMaxScaler"
   ]
  },
  {
   "cell_type": "code",
   "execution_count": 17,
   "id": "7c634b80-1bbe-4a3f-8364-17982e8176dd",
   "metadata": {},
   "outputs": [],
   "source": [
    "from deepctr.models import DeepFM\n",
    "from deepctr.feature_column import SparseFeat, DenseFeat,get_feature_names"
   ]
  },
  {
   "cell_type": "markdown",
   "id": "b39a5ee9-09a2-4bda-bcca-f7dd5dca5a9a",
   "metadata": {},
   "source": [
    "# 資料讀取"
   ]
  },
  {
   "cell_type": "code",
   "execution_count": 2,
   "id": "68df0f90-f478-4cb6-a045-1f9e89dec99f",
   "metadata": {},
   "outputs": [
    {
     "data": {
      "text/plain": [
       "22130579"
      ]
     },
     "execution_count": 2,
     "metadata": {},
     "output_type": "execute_result"
    }
   ],
   "source": [
    "df = pd.read_csv(\"../../data/tbrain_small.csv\")\n",
    "len(df)"
   ]
  },
  {
   "cell_type": "code",
   "execution_count": 3,
   "id": "5e7a3e9b-9d40-4398-a4a6-4197b75d7d6a",
   "metadata": {},
   "outputs": [
    {
     "data": {
      "text/plain": [
       "500000"
      ]
     },
     "execution_count": 3,
     "metadata": {},
     "output_type": "execute_result"
    }
   ],
   "source": [
    "final_df = pd.read_csv(\"../../data/需預測的顧客名單及提交檔案範例.csv\")\n",
    "len(final_df[\"chid\"].unique())"
   ]
  },
  {
   "cell_type": "code",
   "execution_count": 4,
   "id": "6a737719-216f-4cba-be9c-7ee46c158c9c",
   "metadata": {},
   "outputs": [
    {
     "data": {
      "text/plain": [
       "Index(['dt', 'chid', 'shop_tag', 'txn_cnt', 'txn_amt', 'domestic_offline_cnt',\n",
       "       'domestic_online_cnt', 'overseas_offline_cnt', 'overseas_online_cnt',\n",
       "       'domestic_offline_amt_pct', 'domestic_online_amt_pct',\n",
       "       'overseas_offline_amt_pct', 'overseas_online_amt_pct', 'card_1_txn_cnt',\n",
       "       'card_2_txn_cnt', 'card_3_txn_cnt', 'card_4_txn_cnt', 'card_5_txn_cnt',\n",
       "       'card_6_txn_cnt', 'card_7_txn_cnt', 'card_8_txn_cnt', 'card_9_txn_cnt',\n",
       "       'card_10_txn_cnt', 'card_11_txn_cnt', 'card_12_txn_cnt',\n",
       "       'card_13_txn_cnt', 'card_14_txn_cnt', 'card_other_txn_cnt',\n",
       "       'card_1_txn_amt_pct', 'card_2_txn_amt_pct', 'card_3_txn_amt_pct',\n",
       "       'card_4_txn_amt_pct', 'card_5_txn_amt_pct', 'card_6_txn_amt_pct',\n",
       "       'card_7_txn_amt_pct', 'card_8_txn_amt_pct', 'card_9_txn_amt_pct',\n",
       "       'card_10_txn_amt_pct', 'card_11_txn_amt_pct', 'card_12_txn_amt_pct',\n",
       "       'card_13_txn_amt_pct', 'card_14_txn_amt_pct', 'card_other_txn_amt_pct',\n",
       "       'masts', 'educd', 'trdtp', 'naty', 'poscd', 'cuorg', 'slam',\n",
       "       'gender_code', 'age', 'primary_card'],\n",
       "      dtype='object')"
      ]
     },
     "execution_count": 4,
     "metadata": {},
     "output_type": "execute_result"
    }
   ],
   "source": [
    "df = df.drop(columns=['Unnamed: 0'])\n",
    "df.columns"
   ]
  },
  {
   "cell_type": "code",
   "execution_count": 5,
   "id": "60fdcff6-2510-496b-bce4-eb1a557d3905",
   "metadata": {},
   "outputs": [
    {
     "data": {
      "text/html": [
       "<div>\n",
       "<style scoped>\n",
       "    .dataframe tbody tr th:only-of-type {\n",
       "        vertical-align: middle;\n",
       "    }\n",
       "\n",
       "    .dataframe tbody tr th {\n",
       "        vertical-align: top;\n",
       "    }\n",
       "\n",
       "    .dataframe thead th {\n",
       "        text-align: right;\n",
       "    }\n",
       "</style>\n",
       "<table border=\"1\" class=\"dataframe\">\n",
       "  <thead>\n",
       "    <tr style=\"text-align: right;\">\n",
       "      <th></th>\n",
       "      <th>dt</th>\n",
       "      <th>chid</th>\n",
       "      <th>shop_tag</th>\n",
       "      <th>txn_cnt</th>\n",
       "      <th>txn_amt</th>\n",
       "      <th>domestic_offline_cnt</th>\n",
       "      <th>domestic_online_cnt</th>\n",
       "      <th>overseas_offline_cnt</th>\n",
       "      <th>overseas_online_cnt</th>\n",
       "      <th>domestic_offline_amt_pct</th>\n",
       "      <th>...</th>\n",
       "      <th>masts</th>\n",
       "      <th>educd</th>\n",
       "      <th>trdtp</th>\n",
       "      <th>naty</th>\n",
       "      <th>poscd</th>\n",
       "      <th>cuorg</th>\n",
       "      <th>slam</th>\n",
       "      <th>gender_code</th>\n",
       "      <th>age</th>\n",
       "      <th>primary_card</th>\n",
       "    </tr>\n",
       "  </thead>\n",
       "  <tbody>\n",
       "    <tr>\n",
       "      <th>0</th>\n",
       "      <td>1</td>\n",
       "      <td>10267183</td>\n",
       "      <td>2</td>\n",
       "      <td>1</td>\n",
       "      <td>21701.307598</td>\n",
       "      <td>1</td>\n",
       "      <td>0</td>\n",
       "      <td>0</td>\n",
       "      <td>0</td>\n",
       "      <td>1.0</td>\n",
       "      <td>...</td>\n",
       "      <td>2.0</td>\n",
       "      <td>6.0</td>\n",
       "      <td>15.0</td>\n",
       "      <td>1.0</td>\n",
       "      <td>99.0</td>\n",
       "      <td>30.0</td>\n",
       "      <td>NaN</td>\n",
       "      <td>0.0</td>\n",
       "      <td>6.0</td>\n",
       "      <td>0</td>\n",
       "    </tr>\n",
       "    <tr>\n",
       "      <th>1</th>\n",
       "      <td>1</td>\n",
       "      <td>10115966</td>\n",
       "      <td>2</td>\n",
       "      <td>1</td>\n",
       "      <td>6698.199203</td>\n",
       "      <td>1</td>\n",
       "      <td>0</td>\n",
       "      <td>0</td>\n",
       "      <td>0</td>\n",
       "      <td>1.0</td>\n",
       "      <td>...</td>\n",
       "      <td>1.0</td>\n",
       "      <td>4.0</td>\n",
       "      <td>9.0</td>\n",
       "      <td>1.0</td>\n",
       "      <td>1.0</td>\n",
       "      <td>30.0</td>\n",
       "      <td>133000.939458</td>\n",
       "      <td>0.0</td>\n",
       "      <td>5.0</td>\n",
       "      <td>1</td>\n",
       "    </tr>\n",
       "    <tr>\n",
       "      <th>2</th>\n",
       "      <td>1</td>\n",
       "      <td>10484590</td>\n",
       "      <td>2</td>\n",
       "      <td>2</td>\n",
       "      <td>6693.510475</td>\n",
       "      <td>2</td>\n",
       "      <td>0</td>\n",
       "      <td>0</td>\n",
       "      <td>0</td>\n",
       "      <td>1.0</td>\n",
       "      <td>...</td>\n",
       "      <td>2.0</td>\n",
       "      <td>2.0</td>\n",
       "      <td>15.0</td>\n",
       "      <td>1.0</td>\n",
       "      <td>99.0</td>\n",
       "      <td>30.0</td>\n",
       "      <td>82728.103080</td>\n",
       "      <td>0.0</td>\n",
       "      <td>3.0</td>\n",
       "      <td>1</td>\n",
       "    </tr>\n",
       "    <tr>\n",
       "      <th>3</th>\n",
       "      <td>1</td>\n",
       "      <td>10079974</td>\n",
       "      <td>2</td>\n",
       "      <td>1</td>\n",
       "      <td>3271.025090</td>\n",
       "      <td>1</td>\n",
       "      <td>0</td>\n",
       "      <td>0</td>\n",
       "      <td>0</td>\n",
       "      <td>1.0</td>\n",
       "      <td>...</td>\n",
       "      <td>2.0</td>\n",
       "      <td>2.0</td>\n",
       "      <td>2.0</td>\n",
       "      <td>1.0</td>\n",
       "      <td>2.0</td>\n",
       "      <td>30.0</td>\n",
       "      <td>117920.305695</td>\n",
       "      <td>0.0</td>\n",
       "      <td>4.0</td>\n",
       "      <td>1</td>\n",
       "    </tr>\n",
       "    <tr>\n",
       "      <th>4</th>\n",
       "      <td>1</td>\n",
       "      <td>10233949</td>\n",
       "      <td>2</td>\n",
       "      <td>1</td>\n",
       "      <td>2829.165439</td>\n",
       "      <td>1</td>\n",
       "      <td>0</td>\n",
       "      <td>0</td>\n",
       "      <td>0</td>\n",
       "      <td>1.0</td>\n",
       "      <td>...</td>\n",
       "      <td>1.0</td>\n",
       "      <td>5.0</td>\n",
       "      <td>15.0</td>\n",
       "      <td>1.0</td>\n",
       "      <td>99.0</td>\n",
       "      <td>30.0</td>\n",
       "      <td>181351.200025</td>\n",
       "      <td>1.0</td>\n",
       "      <td>6.0</td>\n",
       "      <td>1</td>\n",
       "    </tr>\n",
       "  </tbody>\n",
       "</table>\n",
       "<p>5 rows × 53 columns</p>\n",
       "</div>"
      ],
      "text/plain": [
       "   dt      chid  shop_tag  txn_cnt       txn_amt  domestic_offline_cnt  \\\n",
       "0   1  10267183         2        1  21701.307598                     1   \n",
       "1   1  10115966         2        1   6698.199203                     1   \n",
       "2   1  10484590         2        2   6693.510475                     2   \n",
       "3   1  10079974         2        1   3271.025090                     1   \n",
       "4   1  10233949         2        1   2829.165439                     1   \n",
       "\n",
       "   domestic_online_cnt  overseas_offline_cnt  overseas_online_cnt  \\\n",
       "0                    0                     0                    0   \n",
       "1                    0                     0                    0   \n",
       "2                    0                     0                    0   \n",
       "3                    0                     0                    0   \n",
       "4                    0                     0                    0   \n",
       "\n",
       "   domestic_offline_amt_pct  ...  masts  educd  trdtp  naty  poscd  cuorg  \\\n",
       "0                       1.0  ...    2.0    6.0   15.0   1.0   99.0   30.0   \n",
       "1                       1.0  ...    1.0    4.0    9.0   1.0    1.0   30.0   \n",
       "2                       1.0  ...    2.0    2.0   15.0   1.0   99.0   30.0   \n",
       "3                       1.0  ...    2.0    2.0    2.0   1.0    2.0   30.0   \n",
       "4                       1.0  ...    1.0    5.0   15.0   1.0   99.0   30.0   \n",
       "\n",
       "            slam  gender_code  age  primary_card  \n",
       "0            NaN          0.0  6.0             0  \n",
       "1  133000.939458          0.0  5.0             1  \n",
       "2   82728.103080          0.0  3.0             1  \n",
       "3  117920.305695          0.0  4.0             1  \n",
       "4  181351.200025          1.0  6.0             1  \n",
       "\n",
       "[5 rows x 53 columns]"
      ]
     },
     "execution_count": 5,
     "metadata": {},
     "output_type": "execute_result"
    }
   ],
   "source": [
    "df.head()"
   ]
  },
  {
   "cell_type": "markdown",
   "id": "a3e85643-8113-41f7-bb37-efccf63745b2",
   "metadata": {},
   "source": [
    "# Toy Example"
   ]
  },
  {
   "cell_type": "code",
   "execution_count": 6,
   "id": "b5f46720-c890-4c71-b3e3-6e0671de69a3",
   "metadata": {},
   "outputs": [],
   "source": [
    "df = df[[\"dt\", \"chid\", \"shop_tag\", \"txn_amt\", \"masts\"]]"
   ]
  },
  {
   "cell_type": "markdown",
   "id": "7a8af8bd-3489-4613-866f-d381b3f855e1",
   "metadata": {},
   "source": [
    "## Data Preprocess"
   ]
  },
  {
   "cell_type": "markdown",
   "id": "110c9d9d-0e4a-4d99-9a15-14d57a028de9",
   "metadata": {},
   "source": [
    "- txn_cnt 有負數可以進行排除\n",
    "- 做ＮＡＮ處理\n",
    "- 將id 重新編號\n",
    "- 訓練樣本是否需要平衡？平衡後訓練人數會不會下降？\n",
    "- 有些人數沒有出現過在需預測的類別中，因此需思考要如何對這些人做預測"
   ]
  },
  {
   "cell_type": "markdown",
   "id": "cec7211f-bc3b-41c6-b2a4-c54d66415143",
   "metadata": {},
   "source": [
    "### 排除消費次數為負數的數值"
   ]
  },
  {
   "cell_type": "code",
   "execution_count": 12,
   "id": "9efc7d3a-69e3-44ed-a0c3-11095c1e0857",
   "metadata": {},
   "outputs": [],
   "source": [
    "#df = df[df[\"txn_cnt\"]>0]"
   ]
  },
  {
   "cell_type": "markdown",
   "id": "9ff33274-c248-4e18-98a2-0f46829431f0",
   "metadata": {},
   "source": [
    "### 任一欄位為NAN則排除"
   ]
  },
  {
   "cell_type": "code",
   "execution_count": 7,
   "id": "397786d9-6635-43f0-81c2-00502e01a14c",
   "metadata": {},
   "outputs": [],
   "source": [
    "df.dropna(inplace=True)"
   ]
  },
  {
   "cell_type": "code",
   "execution_count": 8,
   "id": "fa9759f6-ffdd-4d45-ac29-892cb4c2c4c2",
   "metadata": {},
   "outputs": [
    {
     "data": {
      "text/plain": [
       "498038"
      ]
     },
     "execution_count": 8,
     "metadata": {},
     "output_type": "execute_result"
    }
   ],
   "source": [
    "len(df[\"chid\"].unique())"
   ]
  },
  {
   "cell_type": "markdown",
   "id": "3e9e1448-07ba-43bd-9fdf-86f3955cfcbf",
   "metadata": {},
   "source": [
    "### 將chid重新編號"
   ]
  },
  {
   "cell_type": "markdown",
   "id": "af762282-17b5-4e3d-89bf-e5be08059cef",
   "metadata": {},
   "source": [
    "取得最後輸出時需要的chid"
   ]
  },
  {
   "cell_type": "code",
   "execution_count": 9,
   "id": "abc8c0ca-140f-468a-9832-e7d1f7862c64",
   "metadata": {},
   "outputs": [],
   "source": [
    "num_to_id = { i:id for i, id in enumerate(final_df[\"chid\"].unique())}\n",
    "id_to_num = { id:i for i, id in enumerate(final_df[\"chid\"].unique())}"
   ]
  },
  {
   "cell_type": "code",
   "execution_count": 10,
   "id": "a5f2dde8-0943-41bc-828b-ff1402d0e6b8",
   "metadata": {},
   "outputs": [
    {
     "data": {
      "text/html": [
       "<div>\n",
       "<style scoped>\n",
       "    .dataframe tbody tr th:only-of-type {\n",
       "        vertical-align: middle;\n",
       "    }\n",
       "\n",
       "    .dataframe tbody tr th {\n",
       "        vertical-align: top;\n",
       "    }\n",
       "\n",
       "    .dataframe thead th {\n",
       "        text-align: right;\n",
       "    }\n",
       "</style>\n",
       "<table border=\"1\" class=\"dataframe\">\n",
       "  <thead>\n",
       "    <tr style=\"text-align: right;\">\n",
       "      <th></th>\n",
       "      <th>dt</th>\n",
       "      <th>chid</th>\n",
       "      <th>shop_tag</th>\n",
       "      <th>txn_amt</th>\n",
       "      <th>masts</th>\n",
       "      <th>adj_id</th>\n",
       "    </tr>\n",
       "  </thead>\n",
       "  <tbody>\n",
       "    <tr>\n",
       "      <th>0</th>\n",
       "      <td>1</td>\n",
       "      <td>10267183</td>\n",
       "      <td>2</td>\n",
       "      <td>21701.307598</td>\n",
       "      <td>2.0</td>\n",
       "      <td>354909</td>\n",
       "    </tr>\n",
       "    <tr>\n",
       "      <th>1</th>\n",
       "      <td>1</td>\n",
       "      <td>10115966</td>\n",
       "      <td>2</td>\n",
       "      <td>6698.199203</td>\n",
       "      <td>1.0</td>\n",
       "      <td>354911</td>\n",
       "    </tr>\n",
       "    <tr>\n",
       "      <th>2</th>\n",
       "      <td>1</td>\n",
       "      <td>10484590</td>\n",
       "      <td>2</td>\n",
       "      <td>6693.510475</td>\n",
       "      <td>2.0</td>\n",
       "      <td>354959</td>\n",
       "    </tr>\n",
       "    <tr>\n",
       "      <th>3</th>\n",
       "      <td>1</td>\n",
       "      <td>10079974</td>\n",
       "      <td>2</td>\n",
       "      <td>3271.025090</td>\n",
       "      <td>2.0</td>\n",
       "      <td>354992</td>\n",
       "    </tr>\n",
       "    <tr>\n",
       "      <th>4</th>\n",
       "      <td>1</td>\n",
       "      <td>10233949</td>\n",
       "      <td>2</td>\n",
       "      <td>2829.165439</td>\n",
       "      <td>1.0</td>\n",
       "      <td>354949</td>\n",
       "    </tr>\n",
       "  </tbody>\n",
       "</table>\n",
       "</div>"
      ],
      "text/plain": [
       "   dt      chid  shop_tag       txn_amt  masts  adj_id\n",
       "0   1  10267183         2  21701.307598    2.0  354909\n",
       "1   1  10115966         2   6698.199203    1.0  354911\n",
       "2   1  10484590         2   6693.510475    2.0  354959\n",
       "3   1  10079974         2   3271.025090    2.0  354992\n",
       "4   1  10233949         2   2829.165439    1.0  354949"
      ]
     },
     "execution_count": 10,
     "metadata": {},
     "output_type": "execute_result"
    }
   ],
   "source": [
    "df[\"adj_id\"] = df[\"chid\"].map(id_to_num)\n",
    "df.head()"
   ]
  },
  {
   "cell_type": "markdown",
   "id": "c18b27bc-9522-4012-b331-e40a3fbdce72",
   "metadata": {},
   "source": [
    "將婚姻類別轉為int"
   ]
  },
  {
   "cell_type": "code",
   "execution_count": 11,
   "id": "39b61359-c0cf-4a4d-99ee-1f57558b7ba5",
   "metadata": {},
   "outputs": [
    {
     "data": {
      "text/html": [
       "<div>\n",
       "<style scoped>\n",
       "    .dataframe tbody tr th:only-of-type {\n",
       "        vertical-align: middle;\n",
       "    }\n",
       "\n",
       "    .dataframe tbody tr th {\n",
       "        vertical-align: top;\n",
       "    }\n",
       "\n",
       "    .dataframe thead th {\n",
       "        text-align: right;\n",
       "    }\n",
       "</style>\n",
       "<table border=\"1\" class=\"dataframe\">\n",
       "  <thead>\n",
       "    <tr style=\"text-align: right;\">\n",
       "      <th></th>\n",
       "      <th>dt</th>\n",
       "      <th>chid</th>\n",
       "      <th>shop_tag</th>\n",
       "      <th>txn_amt</th>\n",
       "      <th>masts</th>\n",
       "      <th>adj_id</th>\n",
       "    </tr>\n",
       "  </thead>\n",
       "  <tbody>\n",
       "    <tr>\n",
       "      <th>0</th>\n",
       "      <td>1</td>\n",
       "      <td>10267183</td>\n",
       "      <td>2</td>\n",
       "      <td>21701.307598</td>\n",
       "      <td>2</td>\n",
       "      <td>354909</td>\n",
       "    </tr>\n",
       "    <tr>\n",
       "      <th>1</th>\n",
       "      <td>1</td>\n",
       "      <td>10115966</td>\n",
       "      <td>2</td>\n",
       "      <td>6698.199203</td>\n",
       "      <td>1</td>\n",
       "      <td>354911</td>\n",
       "    </tr>\n",
       "    <tr>\n",
       "      <th>2</th>\n",
       "      <td>1</td>\n",
       "      <td>10484590</td>\n",
       "      <td>2</td>\n",
       "      <td>6693.510475</td>\n",
       "      <td>2</td>\n",
       "      <td>354959</td>\n",
       "    </tr>\n",
       "    <tr>\n",
       "      <th>3</th>\n",
       "      <td>1</td>\n",
       "      <td>10079974</td>\n",
       "      <td>2</td>\n",
       "      <td>3271.025090</td>\n",
       "      <td>2</td>\n",
       "      <td>354992</td>\n",
       "    </tr>\n",
       "    <tr>\n",
       "      <th>4</th>\n",
       "      <td>1</td>\n",
       "      <td>10233949</td>\n",
       "      <td>2</td>\n",
       "      <td>2829.165439</td>\n",
       "      <td>1</td>\n",
       "      <td>354949</td>\n",
       "    </tr>\n",
       "  </tbody>\n",
       "</table>\n",
       "</div>"
      ],
      "text/plain": [
       "   dt      chid  shop_tag       txn_amt  masts  adj_id\n",
       "0   1  10267183         2  21701.307598      2  354909\n",
       "1   1  10115966         2   6698.199203      1  354911\n",
       "2   1  10484590         2   6693.510475      2  354959\n",
       "3   1  10079974         2   3271.025090      2  354992\n",
       "4   1  10233949         2   2829.165439      1  354949"
      ]
     },
     "execution_count": 11,
     "metadata": {},
     "output_type": "execute_result"
    }
   ],
   "source": [
    "df['masts'] = df['masts'].astype(int)\n",
    "df.head()"
   ]
  },
  {
   "cell_type": "markdown",
   "id": "26751708-a177-4f79-b04c-8f8f6a07d3d2",
   "metadata": {},
   "source": [
    "## 將消費金額轉為log型態"
   ]
  },
  {
   "cell_type": "code",
   "execution_count": 12,
   "id": "e79f7d45-4e36-4ebb-b92d-cbeefdec39a0",
   "metadata": {},
   "outputs": [
    {
     "data": {
      "text/html": [
       "<div>\n",
       "<style scoped>\n",
       "    .dataframe tbody tr th:only-of-type {\n",
       "        vertical-align: middle;\n",
       "    }\n",
       "\n",
       "    .dataframe tbody tr th {\n",
       "        vertical-align: top;\n",
       "    }\n",
       "\n",
       "    .dataframe thead th {\n",
       "        text-align: right;\n",
       "    }\n",
       "</style>\n",
       "<table border=\"1\" class=\"dataframe\">\n",
       "  <thead>\n",
       "    <tr style=\"text-align: right;\">\n",
       "      <th></th>\n",
       "      <th>dt</th>\n",
       "      <th>chid</th>\n",
       "      <th>shop_tag</th>\n",
       "      <th>txn_amt</th>\n",
       "      <th>masts</th>\n",
       "      <th>adj_id</th>\n",
       "      <th>txn_amt_log</th>\n",
       "    </tr>\n",
       "  </thead>\n",
       "  <tbody>\n",
       "    <tr>\n",
       "      <th>0</th>\n",
       "      <td>1</td>\n",
       "      <td>10267183</td>\n",
       "      <td>2</td>\n",
       "      <td>21701.307598</td>\n",
       "      <td>2</td>\n",
       "      <td>354909</td>\n",
       "      <td>9.985128</td>\n",
       "    </tr>\n",
       "    <tr>\n",
       "      <th>1</th>\n",
       "      <td>1</td>\n",
       "      <td>10115966</td>\n",
       "      <td>2</td>\n",
       "      <td>6698.199203</td>\n",
       "      <td>1</td>\n",
       "      <td>354911</td>\n",
       "      <td>8.809594</td>\n",
       "    </tr>\n",
       "    <tr>\n",
       "      <th>2</th>\n",
       "      <td>1</td>\n",
       "      <td>10484590</td>\n",
       "      <td>2</td>\n",
       "      <td>6693.510475</td>\n",
       "      <td>2</td>\n",
       "      <td>354959</td>\n",
       "      <td>8.808894</td>\n",
       "    </tr>\n",
       "    <tr>\n",
       "      <th>3</th>\n",
       "      <td>1</td>\n",
       "      <td>10079974</td>\n",
       "      <td>2</td>\n",
       "      <td>3271.025090</td>\n",
       "      <td>2</td>\n",
       "      <td>354992</td>\n",
       "      <td>8.092859</td>\n",
       "    </tr>\n",
       "    <tr>\n",
       "      <th>4</th>\n",
       "      <td>1</td>\n",
       "      <td>10233949</td>\n",
       "      <td>2</td>\n",
       "      <td>2829.165439</td>\n",
       "      <td>1</td>\n",
       "      <td>354949</td>\n",
       "      <td>7.947737</td>\n",
       "    </tr>\n",
       "  </tbody>\n",
       "</table>\n",
       "</div>"
      ],
      "text/plain": [
       "   dt      chid  shop_tag       txn_amt  masts  adj_id  txn_amt_log\n",
       "0   1  10267183         2  21701.307598      2  354909     9.985128\n",
       "1   1  10115966         2   6698.199203      1  354911     8.809594\n",
       "2   1  10484590         2   6693.510475      2  354959     8.808894\n",
       "3   1  10079974         2   3271.025090      2  354992     8.092859\n",
       "4   1  10233949         2   2829.165439      1  354949     7.947737"
      ]
     },
     "execution_count": 12,
     "metadata": {},
     "output_type": "execute_result"
    }
   ],
   "source": [
    "df[\"txn_amt_log\"] = df[\"txn_amt\"].apply(np.log)\n",
    "df.head()"
   ]
  },
  {
   "cell_type": "code",
   "execution_count": 13,
   "id": "36408b58-65ae-4019-b32e-3400ea5db21e",
   "metadata": {},
   "outputs": [
    {
     "data": {
      "text/html": [
       "<div>\n",
       "<style scoped>\n",
       "    .dataframe tbody tr th:only-of-type {\n",
       "        vertical-align: middle;\n",
       "    }\n",
       "\n",
       "    .dataframe tbody tr th {\n",
       "        vertical-align: top;\n",
       "    }\n",
       "\n",
       "    .dataframe thead th {\n",
       "        text-align: right;\n",
       "    }\n",
       "</style>\n",
       "<table border=\"1\" class=\"dataframe\">\n",
       "  <thead>\n",
       "    <tr style=\"text-align: right;\">\n",
       "      <th></th>\n",
       "      <th>dt</th>\n",
       "      <th>shop_tag</th>\n",
       "      <th>masts</th>\n",
       "      <th>adj_id</th>\n",
       "      <th>txn_amt_log</th>\n",
       "    </tr>\n",
       "  </thead>\n",
       "  <tbody>\n",
       "    <tr>\n",
       "      <th>0</th>\n",
       "      <td>1</td>\n",
       "      <td>2</td>\n",
       "      <td>2</td>\n",
       "      <td>354909</td>\n",
       "      <td>9.985128</td>\n",
       "    </tr>\n",
       "    <tr>\n",
       "      <th>1</th>\n",
       "      <td>1</td>\n",
       "      <td>2</td>\n",
       "      <td>1</td>\n",
       "      <td>354911</td>\n",
       "      <td>8.809594</td>\n",
       "    </tr>\n",
       "    <tr>\n",
       "      <th>2</th>\n",
       "      <td>1</td>\n",
       "      <td>2</td>\n",
       "      <td>2</td>\n",
       "      <td>354959</td>\n",
       "      <td>8.808894</td>\n",
       "    </tr>\n",
       "    <tr>\n",
       "      <th>3</th>\n",
       "      <td>1</td>\n",
       "      <td>2</td>\n",
       "      <td>2</td>\n",
       "      <td>354992</td>\n",
       "      <td>8.092859</td>\n",
       "    </tr>\n",
       "    <tr>\n",
       "      <th>4</th>\n",
       "      <td>1</td>\n",
       "      <td>2</td>\n",
       "      <td>1</td>\n",
       "      <td>354949</td>\n",
       "      <td>7.947737</td>\n",
       "    </tr>\n",
       "  </tbody>\n",
       "</table>\n",
       "</div>"
      ],
      "text/plain": [
       "   dt  shop_tag  masts  adj_id  txn_amt_log\n",
       "0   1         2      2  354909     9.985128\n",
       "1   1         2      1  354911     8.809594\n",
       "2   1         2      2  354959     8.808894\n",
       "3   1         2      2  354992     8.092859\n",
       "4   1         2      1  354949     7.947737"
      ]
     },
     "execution_count": 13,
     "metadata": {},
     "output_type": "execute_result"
    }
   ],
   "source": [
    "train = df.drop(columns=[\"chid\", \"txn_amt\"])\n",
    "train.head()"
   ]
  },
  {
   "cell_type": "markdown",
   "id": "cc6423e7-01b3-4f59-b143-eed819fcef52",
   "metadata": {},
   "source": [
    "### DeepCTR test"
   ]
  },
  {
   "cell_type": "code",
   "execution_count": 14,
   "id": "a03c3dcb-c8ff-472d-ba3f-842ab4710ccb",
   "metadata": {},
   "outputs": [],
   "source": [
    "sparse_features = [\"adj_id\", \"shop_tag\", \"masts\"]\n",
    "dense_features = [\"dt\"]\n",
    "target = [\"txn_amt_log\"]"
   ]
  },
  {
   "cell_type": "markdown",
   "id": "52d3b249-2471-434c-aa3c-198fdfa2db9d",
   "metadata": {},
   "source": [
    "normalize dense features"
   ]
  },
  {
   "cell_type": "code",
   "execution_count": 15,
   "id": "1a4122b9-32fa-4d29-a194-e90b226cdd75",
   "metadata": {},
   "outputs": [
    {
     "data": {
      "text/html": [
       "<div>\n",
       "<style scoped>\n",
       "    .dataframe tbody tr th:only-of-type {\n",
       "        vertical-align: middle;\n",
       "    }\n",
       "\n",
       "    .dataframe tbody tr th {\n",
       "        vertical-align: top;\n",
       "    }\n",
       "\n",
       "    .dataframe thead th {\n",
       "        text-align: right;\n",
       "    }\n",
       "</style>\n",
       "<table border=\"1\" class=\"dataframe\">\n",
       "  <thead>\n",
       "    <tr style=\"text-align: right;\">\n",
       "      <th></th>\n",
       "      <th>dt</th>\n",
       "      <th>shop_tag</th>\n",
       "      <th>masts</th>\n",
       "      <th>adj_id</th>\n",
       "      <th>txn_amt_log</th>\n",
       "    </tr>\n",
       "  </thead>\n",
       "  <tbody>\n",
       "    <tr>\n",
       "      <th>0</th>\n",
       "      <td>0.0</td>\n",
       "      <td>2</td>\n",
       "      <td>2</td>\n",
       "      <td>354909</td>\n",
       "      <td>9.985128</td>\n",
       "    </tr>\n",
       "    <tr>\n",
       "      <th>1</th>\n",
       "      <td>0.0</td>\n",
       "      <td>2</td>\n",
       "      <td>1</td>\n",
       "      <td>354911</td>\n",
       "      <td>8.809594</td>\n",
       "    </tr>\n",
       "    <tr>\n",
       "      <th>2</th>\n",
       "      <td>0.0</td>\n",
       "      <td>2</td>\n",
       "      <td>2</td>\n",
       "      <td>354959</td>\n",
       "      <td>8.808894</td>\n",
       "    </tr>\n",
       "    <tr>\n",
       "      <th>3</th>\n",
       "      <td>0.0</td>\n",
       "      <td>2</td>\n",
       "      <td>2</td>\n",
       "      <td>354992</td>\n",
       "      <td>8.092859</td>\n",
       "    </tr>\n",
       "    <tr>\n",
       "      <th>4</th>\n",
       "      <td>0.0</td>\n",
       "      <td>2</td>\n",
       "      <td>1</td>\n",
       "      <td>354949</td>\n",
       "      <td>7.947737</td>\n",
       "    </tr>\n",
       "  </tbody>\n",
       "</table>\n",
       "</div>"
      ],
      "text/plain": [
       "    dt  shop_tag  masts  adj_id  txn_amt_log\n",
       "0  0.0         2      2  354909     9.985128\n",
       "1  0.0         2      1  354911     8.809594\n",
       "2  0.0         2      2  354959     8.808894\n",
       "3  0.0         2      2  354992     8.092859\n",
       "4  0.0         2      1  354949     7.947737"
      ]
     },
     "execution_count": 15,
     "metadata": {},
     "output_type": "execute_result"
    }
   ],
   "source": [
    "mms = MinMaxScaler(feature_range=(0,1))\n",
    "train[dense_features] = mms.fit_transform(train[dense_features])\n",
    "train.head()"
   ]
  },
  {
   "cell_type": "markdown",
   "id": "1a7ca884-3d14-445f-b439-267ca7f747aa",
   "metadata": {},
   "source": [
    "#### generate feature columns"
   ]
  },
  {
   "cell_type": "code",
   "execution_count": 18,
   "id": "8aaceaa4-8b49-486f-9b9f-5b1a4768799b",
   "metadata": {},
   "outputs": [
    {
     "name": "stdout",
     "output_type": "stream",
     "text": [
      "WARNING:tensorflow:From c:\\users\\baron\\appdata\\local\\programs\\python\\python37\\lib\\site-packages\\tensorflow_core\\python\\keras\\initializers.py:143: calling RandomNormal.__init__ (from tensorflow.python.ops.init_ops) with dtype is deprecated and will be removed in a future version.\n",
      "Instructions for updating:\n",
      "Call initializer instance with the dtype argument instead of passing it to the constructor\n"
     ]
    }
   ],
   "source": [
    "fixlen_feature_columns = [SparseFeat(feat, vocabulary_size=train[feat].max() + 1,embedding_dim=4)\n",
    "                       for i,feat in enumerate(sparse_features)] + [DenseFeat(feat, 1,)\n",
    "                      for feat in dense_features]\n",
    "\n",
    "dnn_feature_columns = fixlen_feature_columns\n",
    "linear_feature_columns = fixlen_feature_columns\n",
    "\n",
    "feature_names = get_feature_names(linear_feature_columns + dnn_feature_columns)"
   ]
  },
  {
   "cell_type": "code",
   "execution_count": 19,
   "id": "5d2248c2-cd44-4b6d-9fcd-5f78aa33af22",
   "metadata": {},
   "outputs": [],
   "source": [
    "# traing data & testing data\n",
    "train, test = train_test_split(train, test_size=0.2, random_state=66)"
   ]
  },
  {
   "cell_type": "markdown",
   "id": "3e7f04ba-1d4d-4b54-9302-e0cba4bb24e6",
   "metadata": {},
   "source": [
    "#### Train"
   ]
  },
  {
   "cell_type": "code",
   "execution_count": 26,
   "id": "f523906e-bbd4-4c95-b9c3-c010b71f0a61",
   "metadata": {},
   "outputs": [
    {
     "name": "stdout",
     "output_type": "stream",
     "text": [
      "Train on 14163565 samples, validate on 3540892 samples\n",
      "Epoch 1/10\n",
      "14163565/14163565 - 1790s - loss: 0.4254 - mean_squared_error: 0.4082 - val_loss: 0.3819 - val_mean_squared_error: 0.3612\n",
      "Epoch 2/10\n",
      "14163565/14163565 - 1744s - loss: 0.3738 - mean_squared_error: 0.3528 - val_loss: 0.3715 - val_mean_squared_error: 0.3505\n",
      "Epoch 3/10\n",
      "14163565/14163565 - 1741s - loss: 0.3728 - mean_squared_error: 0.3516 - val_loss: 0.3739 - val_mean_squared_error: 0.3526\n",
      "Epoch 4/10\n",
      "14163565/14163565 - 1751s - loss: 0.3723 - mean_squared_error: 0.3508 - val_loss: 0.3700 - val_mean_squared_error: 0.3486\n",
      "Epoch 5/10\n",
      "14163565/14163565 - 1743s - loss: 0.3716 - mean_squared_error: 0.3501 - val_loss: 0.3712 - val_mean_squared_error: 0.3500\n",
      "Epoch 6/10\n",
      "14163565/14163565 - 1743s - loss: 0.3713 - mean_squared_error: 0.3498 - val_loss: 0.3700 - val_mean_squared_error: 0.3487\n",
      "Epoch 7/10\n",
      "14163565/14163565 - 1740s - loss: 0.3711 - mean_squared_error: 0.3497 - val_loss: 0.3696 - val_mean_squared_error: 0.3484\n",
      "Epoch 8/10\n",
      "14163565/14163565 - 1744s - loss: 0.3711 - mean_squared_error: 0.3497 - val_loss: 0.3714 - val_mean_squared_error: 0.3502\n",
      "Epoch 9/10\n",
      "14163565/14163565 - 1741s - loss: 0.3711 - mean_squared_error: 0.3497 - val_loss: 0.3701 - val_mean_squared_error: 0.3488\n",
      "Epoch 10/10\n",
      "14163565/14163565 - 1744s - loss: 0.3712 - mean_squared_error: 0.3498 - val_loss: 0.3706 - val_mean_squared_error: 0.3494\n"
     ]
    }
   ],
   "source": [
    "train_model_input = {name:train[name].values for name in feature_names}\n",
    "test_model_input = {name:test[name].values for name in feature_names}\n",
    "\n",
    "\n",
    "model = DeepFM(linear_feature_columns,dnn_feature_columns,task='regression')\n",
    "model.compile(\"adam\", \"mse\",\n",
    "              metrics=['mse'], )\n",
    "\n",
    "history = model.fit(train_model_input, train[target].values,\n",
    "                    batch_size=256, epochs=10, verbose=2, validation_split=0.2, )"
   ]
  },
  {
   "cell_type": "markdown",
   "id": "68162353-b104-440c-8a69-fbe08bc350d4",
   "metadata": {},
   "source": [
    "#### Predict"
   ]
  },
  {
   "cell_type": "code",
   "execution_count": 27,
   "id": "7e9b445c-e081-4ceb-85eb-eb4f42a9f4ed",
   "metadata": {},
   "outputs": [
    {
     "name": "stdout",
     "output_type": "stream",
     "text": [
      "[[8.816601 ]\n",
      " [9.089866 ]\n",
      " [8.679361 ]\n",
      " ...\n",
      " [8.987803 ]\n",
      " [8.5921755]\n",
      " [8.492655 ]]\n"
     ]
    }
   ],
   "source": [
    "pred_ans = model.predict(test_model_input, batch_size=256)\n",
    "print(pred_ans)"
   ]
  },
  {
   "cell_type": "markdown",
   "id": "405611f7-dda9-41e7-8234-71f4daac13a0",
   "metadata": {},
   "source": [
    "### Final output"
   ]
  },
  {
   "cell_type": "code",
   "execution_count": 22,
   "id": "277a707a-d5db-498f-8826-67fa7ce54aa1",
   "metadata": {},
   "outputs": [
    {
     "data": {
      "text/html": [
       "<div>\n",
       "<style scoped>\n",
       "    .dataframe tbody tr th:only-of-type {\n",
       "        vertical-align: middle;\n",
       "    }\n",
       "\n",
       "    .dataframe tbody tr th {\n",
       "        vertical-align: top;\n",
       "    }\n",
       "\n",
       "    .dataframe thead th {\n",
       "        text-align: right;\n",
       "    }\n",
       "</style>\n",
       "<table border=\"1\" class=\"dataframe\">\n",
       "  <thead>\n",
       "    <tr style=\"text-align: right;\">\n",
       "      <th></th>\n",
       "      <th>adj_id</th>\n",
       "      <th>shop_tag</th>\n",
       "      <th>masts</th>\n",
       "      <th>dt</th>\n",
       "    </tr>\n",
       "  </thead>\n",
       "  <tbody>\n",
       "    <tr>\n",
       "      <th>0</th>\n",
       "      <td>354911</td>\n",
       "      <td>12</td>\n",
       "      <td>1</td>\n",
       "      <td>25</td>\n",
       "    </tr>\n",
       "    <tr>\n",
       "      <th>1</th>\n",
       "      <td>354911</td>\n",
       "      <td>37</td>\n",
       "      <td>1</td>\n",
       "      <td>25</td>\n",
       "    </tr>\n",
       "    <tr>\n",
       "      <th>2</th>\n",
       "      <td>354911</td>\n",
       "      <td>15</td>\n",
       "      <td>1</td>\n",
       "      <td>25</td>\n",
       "    </tr>\n",
       "    <tr>\n",
       "      <th>3</th>\n",
       "      <td>354911</td>\n",
       "      <td>36</td>\n",
       "      <td>1</td>\n",
       "      <td>25</td>\n",
       "    </tr>\n",
       "    <tr>\n",
       "      <th>4</th>\n",
       "      <td>354911</td>\n",
       "      <td>10</td>\n",
       "      <td>1</td>\n",
       "      <td>25</td>\n",
       "    </tr>\n",
       "  </tbody>\n",
       "</table>\n",
       "</div>"
      ],
      "text/plain": [
       "   adj_id  shop_tag  masts  dt\n",
       "0  354911        12      1  25\n",
       "1  354911        37      1  25\n",
       "2  354911        15      1  25\n",
       "3  354911        36      1  25\n",
       "4  354911        10      1  25"
      ]
     },
     "execution_count": 22,
     "metadata": {},
     "output_type": "execute_result"
    }
   ],
   "source": [
    "shop_tag = train[\"shop_tag\"].unique()\n",
    "# user\n",
    "#for\n",
    "#tag\n",
    "final_df = pd.DataFrame([[354911, tag, 1, 25] for tag in shop_tag], columns=sparse_features+dense_features)\n",
    "final_df.head()"
   ]
  },
  {
   "cell_type": "code",
   "execution_count": 28,
   "id": "6e0809f4-1759-4531-9774-5e39e8b9860d",
   "metadata": {},
   "outputs": [],
   "source": [
    "final_model_input = {name:final_df[name].values for name in feature_names}\n",
    "pred_final = model.predict(final_model_input, batch_size=256)"
   ]
  },
  {
   "cell_type": "code",
   "execution_count": 37,
   "id": "6e68f126-6909-4c38-88cd-350d88f37494",
   "metadata": {},
   "outputs": [
    {
     "data": {
      "text/plain": [
       "array([12, 37, 15, 36, 10,  6, 13,  2, 18, 48, 19, 25, 21, 22, 39, 26],\n",
       "      dtype=int64)"
      ]
     },
     "execution_count": 37,
     "metadata": {},
     "output_type": "execute_result"
    }
   ],
   "source": [
    "shop_tag"
   ]
  },
  {
   "cell_type": "code",
   "execution_count": 50,
   "id": "8e2c6e9c-e0d2-41e1-9c51-be7b65ca1d60",
   "metadata": {},
   "outputs": [
    {
     "name": "stdout",
     "output_type": "stream",
     "text": [
      "index:\n",
      " [[14]\n",
      " [10]\n",
      " [15]],\n",
      "shop_tag:\n",
      "[[39]\n",
      " [19]\n",
      " [26]]\n"
     ]
    }
   ],
   "source": [
    "max_index = np.argsort(pred_final, axis=0)[::-1][:3]\n",
    "print(f\"index:\\n {max_index},\\nshop_tag:\\n{shop_tag[max_index]}\")"
   ]
  },
  {
   "cell_type": "code",
   "execution_count": 29,
   "id": "022fd854-b223-4837-9329-84b7967f3870",
   "metadata": {},
   "outputs": [
    {
     "data": {
      "text/plain": [
       "array([[13.182239 ],\n",
       "       [13.210162 ],\n",
       "       [12.991496 ],\n",
       "       [12.82268  ],\n",
       "       [13.129737 ],\n",
       "       [13.273463 ],\n",
       "       [12.897992 ],\n",
       "       [13.313661 ],\n",
       "       [13.194458 ],\n",
       "       [12.794162 ],\n",
       "       [13.3712015],\n",
       "       [12.961331 ],\n",
       "       [13.103572 ],\n",
       "       [12.892783 ],\n",
       "       [13.503781 ],\n",
       "       [13.33014  ]], dtype=float32)"
      ]
     },
     "execution_count": 29,
     "metadata": {},
     "output_type": "execute_result"
    }
   ],
   "source": [
    "pred_final"
   ]
  },
  {
   "cell_type": "code",
   "execution_count": 51,
   "id": "3b543fd3-bab3-4804-98dd-8d77d0e650cb",
   "metadata": {},
   "outputs": [
    {
     "data": {
      "text/html": [
       "<div>\n",
       "<style scoped>\n",
       "    .dataframe tbody tr th:only-of-type {\n",
       "        vertical-align: middle;\n",
       "    }\n",
       "\n",
       "    .dataframe tbody tr th {\n",
       "        vertical-align: top;\n",
       "    }\n",
       "\n",
       "    .dataframe thead th {\n",
       "        text-align: right;\n",
       "    }\n",
       "</style>\n",
       "<table border=\"1\" class=\"dataframe\">\n",
       "  <thead>\n",
       "    <tr style=\"text-align: right;\">\n",
       "      <th></th>\n",
       "      <th>shop_tag</th>\n",
       "      <th>txn_amt_log</th>\n",
       "    </tr>\n",
       "  </thead>\n",
       "  <tbody>\n",
       "    <tr>\n",
       "      <th>12152704</th>\n",
       "      <td>25</td>\n",
       "      <td>9.086660</td>\n",
       "    </tr>\n",
       "    <tr>\n",
       "      <th>10013536</th>\n",
       "      <td>19</td>\n",
       "      <td>10.398011</td>\n",
       "    </tr>\n",
       "    <tr>\n",
       "      <th>57906</th>\n",
       "      <td>2</td>\n",
       "      <td>9.844190</td>\n",
       "    </tr>\n",
       "    <tr>\n",
       "      <th>1578728</th>\n",
       "      <td>2</td>\n",
       "      <td>10.488068</td>\n",
       "    </tr>\n",
       "    <tr>\n",
       "      <th>6597534</th>\n",
       "      <td>15</td>\n",
       "      <td>9.579403</td>\n",
       "    </tr>\n",
       "    <tr>\n",
       "      <th>9830092</th>\n",
       "      <td>19</td>\n",
       "      <td>10.345238</td>\n",
       "    </tr>\n",
       "    <tr>\n",
       "      <th>12922535</th>\n",
       "      <td>26</td>\n",
       "      <td>8.642904</td>\n",
       "    </tr>\n",
       "    <tr>\n",
       "      <th>16082369</th>\n",
       "      <td>37</td>\n",
       "      <td>7.800066</td>\n",
       "    </tr>\n",
       "    <tr>\n",
       "      <th>13054049</th>\n",
       "      <td>26</td>\n",
       "      <td>10.075165</td>\n",
       "    </tr>\n",
       "    <tr>\n",
       "      <th>8769710</th>\n",
       "      <td>15</td>\n",
       "      <td>9.717112</td>\n",
       "    </tr>\n",
       "    <tr>\n",
       "      <th>1199480</th>\n",
       "      <td>2</td>\n",
       "      <td>9.789253</td>\n",
       "    </tr>\n",
       "    <tr>\n",
       "      <th>890312</th>\n",
       "      <td>2</td>\n",
       "      <td>9.743337</td>\n",
       "    </tr>\n",
       "    <tr>\n",
       "      <th>9549335</th>\n",
       "      <td>18</td>\n",
       "      <td>10.236291</td>\n",
       "    </tr>\n",
       "    <tr>\n",
       "      <th>11058208</th>\n",
       "      <td>21</td>\n",
       "      <td>9.483172</td>\n",
       "    </tr>\n",
       "    <tr>\n",
       "      <th>9384432</th>\n",
       "      <td>18</td>\n",
       "      <td>10.070849</td>\n",
       "    </tr>\n",
       "    <tr>\n",
       "      <th>1389116</th>\n",
       "      <td>2</td>\n",
       "      <td>8.815155</td>\n",
       "    </tr>\n",
       "    <tr>\n",
       "      <th>12189211</th>\n",
       "      <td>25</td>\n",
       "      <td>7.757129</td>\n",
       "    </tr>\n",
       "    <tr>\n",
       "      <th>19788835</th>\n",
       "      <td>39</td>\n",
       "      <td>9.057291</td>\n",
       "    </tr>\n",
       "    <tr>\n",
       "      <th>18086714</th>\n",
       "      <td>37</td>\n",
       "      <td>9.802044</td>\n",
       "    </tr>\n",
       "    <tr>\n",
       "      <th>10092325</th>\n",
       "      <td>19</td>\n",
       "      <td>9.478204</td>\n",
       "    </tr>\n",
       "    <tr>\n",
       "      <th>8644944</th>\n",
       "      <td>15</td>\n",
       "      <td>9.265023</td>\n",
       "    </tr>\n",
       "    <tr>\n",
       "      <th>12866972</th>\n",
       "      <td>26</td>\n",
       "      <td>9.718792</td>\n",
       "    </tr>\n",
       "  </tbody>\n",
       "</table>\n",
       "</div>"
      ],
      "text/plain": [
       "          shop_tag  txn_amt_log\n",
       "12152704        25     9.086660\n",
       "10013536        19    10.398011\n",
       "57906            2     9.844190\n",
       "1578728          2    10.488068\n",
       "6597534         15     9.579403\n",
       "9830092         19    10.345238\n",
       "12922535        26     8.642904\n",
       "16082369        37     7.800066\n",
       "13054049        26    10.075165\n",
       "8769710         15     9.717112\n",
       "1199480          2     9.789253\n",
       "890312           2     9.743337\n",
       "9549335         18    10.236291\n",
       "11058208        21     9.483172\n",
       "9384432         18    10.070849\n",
       "1389116          2     8.815155\n",
       "12189211        25     7.757129\n",
       "19788835        39     9.057291\n",
       "18086714        37     9.802044\n",
       "10092325        19     9.478204\n",
       "8644944         15     9.265023\n",
       "12866972        26     9.718792"
      ]
     },
     "execution_count": 51,
     "metadata": {},
     "output_type": "execute_result"
    }
   ],
   "source": [
    "test[test[\"adj_id\"]==354911][[\"shop_tag\", \"txn_amt_log\"]]"
   ]
  },
  {
   "cell_type": "code",
   "execution_count": null,
   "id": "3bad6e48-3862-4855-a496-ee944fc85de7",
   "metadata": {},
   "outputs": [],
   "source": []
  }
 ],
 "metadata": {
  "kernelspec": {
   "display_name": "Python 3 (ipykernel)",
   "language": "python",
   "name": "python3"
  },
  "language_info": {
   "codemirror_mode": {
    "name": "ipython",
    "version": 3
   },
   "file_extension": ".py",
   "mimetype": "text/x-python",
   "name": "python",
   "nbconvert_exporter": "python",
   "pygments_lexer": "ipython3",
   "version": "3.9.7"
  }
 },
 "nbformat": 4,
 "nbformat_minor": 5
}
